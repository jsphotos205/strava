{
 "cells": [
  {
   "cell_type": "code",
   "execution_count": 43,
   "metadata": {},
   "outputs": [],
   "source": [
    "import requests\n",
    "import pandas as pd"
   ]
  },
  {
   "cell_type": "code",
   "execution_count": 44,
   "metadata": {},
   "outputs": [
    {
     "data": {
      "text/plain": [
       "<Response [200]>"
      ]
     },
     "execution_count": 44,
     "metadata": {},
     "output_type": "execute_result"
    }
   ],
   "source": [
    "url = 'https://api.weather.gov/gridpoints/{wfo}/{x},{y}/forecast/hourly?units=us'\n",
    "\n",
    "wfo = 'JKL'\n",
    "x = 48\n",
    "y = 52\n",
    "\n",
    "endpoint = url.format(wfo=wfo, x=x,y=y)\n",
    "\n",
    "response = requests.get(endpoint)\n",
    "response"
   ]
  },
  {
   "cell_type": "code",
   "execution_count": 45,
   "metadata": {},
   "outputs": [],
   "source": [
    "if response.status_code == 200:\n",
    "\n",
    "    data = response.json()\n",
    "    periods = data['properties']['periods']\n",
    "    \n",
    "    df = pd.DataFrame(periods)\n",
    "    \n",
    "else:\n",
    "    print(\"Error:\",response)"
   ]
  },
  {
   "cell_type": "code",
   "execution_count": 46,
   "metadata": {},
   "outputs": [
    {
     "data": {
      "text/plain": [
       "['number',\n",
       " 'name',\n",
       " 'startTime',\n",
       " 'endTime',\n",
       " 'isDaytime',\n",
       " 'temperature',\n",
       " 'temperatureUnit',\n",
       " 'temperatureTrend',\n",
       " 'probabilityOfPrecipitation',\n",
       " 'dewpoint',\n",
       " 'relativeHumidity',\n",
       " 'windSpeed',\n",
       " 'windDirection',\n",
       " 'icon',\n",
       " 'shortForecast',\n",
       " 'detailedForecast']"
      ]
     },
     "execution_count": 46,
     "metadata": {},
     "output_type": "execute_result"
    }
   ],
   "source": [
    "columns = df.columns.to_list()\n",
    "columns"
   ]
  },
  {
   "cell_type": "code",
   "execution_count": 47,
   "metadata": {},
   "outputs": [
    {
     "name": "stderr",
     "output_type": "stream",
     "text": [
      "/var/folders/02/lzvd5scj4zb274qzdzm7r7p80000gn/T/ipykernel_38040/54242982.py:13: FutureWarning: The frame.append method is deprecated and will be removed from pandas in a future version. Use pandas.concat instead.\n",
      "  temperature_df = temperature_df.append(new_row, ignore_index=True)\n"
     ]
    },
    {
     "data": {
      "text/html": [
       "<div>\n",
       "<style scoped>\n",
       "    .dataframe tbody tr th:only-of-type {\n",
       "        vertical-align: middle;\n",
       "    }\n",
       "\n",
       "    .dataframe tbody tr th {\n",
       "        vertical-align: top;\n",
       "    }\n",
       "\n",
       "    .dataframe thead th {\n",
       "        text-align: right;\n",
       "    }\n",
       "</style>\n",
       "<table border=\"1\" class=\"dataframe\">\n",
       "  <thead>\n",
       "    <tr style=\"text-align: right;\">\n",
       "      <th></th>\n",
       "      <th>startTime</th>\n",
       "      <th>temperature</th>\n",
       "      <th>dewpoint</th>\n",
       "      <th>relativeHumidity</th>\n",
       "    </tr>\n",
       "  </thead>\n",
       "  <tbody>\n",
       "    <tr>\n",
       "      <th>0</th>\n",
       "      <td>2023-07-18T19:00:00-04:00</td>\n",
       "      <td>73</td>\n",
       "      <td>{'unitCode': 'wmoUnit:degC', 'value': 20.55555...</td>\n",
       "      <td>{'unitCode': 'wmoUnit:percent', 'value': 87}</td>\n",
       "    </tr>\n",
       "    <tr>\n",
       "      <th>1</th>\n",
       "      <td>2023-07-18T20:00:00-04:00</td>\n",
       "      <td>72</td>\n",
       "      <td>{'unitCode': 'wmoUnit:degC', 'value': 20.55555...</td>\n",
       "      <td>{'unitCode': 'wmoUnit:percent', 'value': 90}</td>\n",
       "    </tr>\n",
       "    <tr>\n",
       "      <th>2</th>\n",
       "      <td>2023-07-18T21:00:00-04:00</td>\n",
       "      <td>72</td>\n",
       "      <td>{'unitCode': 'wmoUnit:degC', 'value': 20.55555...</td>\n",
       "      <td>{'unitCode': 'wmoUnit:percent', 'value': 90}</td>\n",
       "    </tr>\n",
       "    <tr>\n",
       "      <th>3</th>\n",
       "      <td>2023-07-18T22:00:00-04:00</td>\n",
       "      <td>71</td>\n",
       "      <td>{'unitCode': 'wmoUnit:degC', 'value': 20}</td>\n",
       "      <td>{'unitCode': 'wmoUnit:percent', 'value': 90}</td>\n",
       "    </tr>\n",
       "    <tr>\n",
       "      <th>4</th>\n",
       "      <td>2023-07-18T23:00:00-04:00</td>\n",
       "      <td>70</td>\n",
       "      <td>{'unitCode': 'wmoUnit:degC', 'value': 20}</td>\n",
       "      <td>{'unitCode': 'wmoUnit:percent', 'value': 93}</td>\n",
       "    </tr>\n",
       "    <tr>\n",
       "      <th>...</th>\n",
       "      <td>...</td>\n",
       "      <td>...</td>\n",
       "      <td>...</td>\n",
       "      <td>...</td>\n",
       "    </tr>\n",
       "    <tr>\n",
       "      <th>151</th>\n",
       "      <td>2023-07-25T02:00:00-04:00</td>\n",
       "      <td>66</td>\n",
       "      <td>{'unitCode': 'wmoUnit:degC', 'value': 16.66666...</td>\n",
       "      <td>{'unitCode': 'wmoUnit:percent', 'value': 87}</td>\n",
       "    </tr>\n",
       "    <tr>\n",
       "      <th>152</th>\n",
       "      <td>2023-07-25T03:00:00-04:00</td>\n",
       "      <td>66</td>\n",
       "      <td>{'unitCode': 'wmoUnit:degC', 'value': 16.66666...</td>\n",
       "      <td>{'unitCode': 'wmoUnit:percent', 'value': 87}</td>\n",
       "    </tr>\n",
       "    <tr>\n",
       "      <th>153</th>\n",
       "      <td>2023-07-25T04:00:00-04:00</td>\n",
       "      <td>65</td>\n",
       "      <td>{'unitCode': 'wmoUnit:degC', 'value': 16.66666...</td>\n",
       "      <td>{'unitCode': 'wmoUnit:percent', 'value': 90}</td>\n",
       "    </tr>\n",
       "    <tr>\n",
       "      <th>154</th>\n",
       "      <td>2023-07-25T05:00:00-04:00</td>\n",
       "      <td>64</td>\n",
       "      <td>{'unitCode': 'wmoUnit:degC', 'value': 16.66666...</td>\n",
       "      <td>{'unitCode': 'wmoUnit:percent', 'value': 93}</td>\n",
       "    </tr>\n",
       "    <tr>\n",
       "      <th>155</th>\n",
       "      <td>2023-07-25T06:00:00-04:00</td>\n",
       "      <td>63</td>\n",
       "      <td>{'unitCode': 'wmoUnit:degC', 'value': 16.66666...</td>\n",
       "      <td>{'unitCode': 'wmoUnit:percent', 'value': 97}</td>\n",
       "    </tr>\n",
       "  </tbody>\n",
       "</table>\n",
       "<p>156 rows × 4 columns</p>\n",
       "</div>"
      ],
      "text/plain": [
       "                     startTime temperature  \\\n",
       "0    2023-07-18T19:00:00-04:00          73   \n",
       "1    2023-07-18T20:00:00-04:00          72   \n",
       "2    2023-07-18T21:00:00-04:00          72   \n",
       "3    2023-07-18T22:00:00-04:00          71   \n",
       "4    2023-07-18T23:00:00-04:00          70   \n",
       "..                         ...         ...   \n",
       "151  2023-07-25T02:00:00-04:00          66   \n",
       "152  2023-07-25T03:00:00-04:00          66   \n",
       "153  2023-07-25T04:00:00-04:00          65   \n",
       "154  2023-07-25T05:00:00-04:00          64   \n",
       "155  2023-07-25T06:00:00-04:00          63   \n",
       "\n",
       "                                              dewpoint  \\\n",
       "0    {'unitCode': 'wmoUnit:degC', 'value': 20.55555...   \n",
       "1    {'unitCode': 'wmoUnit:degC', 'value': 20.55555...   \n",
       "2    {'unitCode': 'wmoUnit:degC', 'value': 20.55555...   \n",
       "3            {'unitCode': 'wmoUnit:degC', 'value': 20}   \n",
       "4            {'unitCode': 'wmoUnit:degC', 'value': 20}   \n",
       "..                                                 ...   \n",
       "151  {'unitCode': 'wmoUnit:degC', 'value': 16.66666...   \n",
       "152  {'unitCode': 'wmoUnit:degC', 'value': 16.66666...   \n",
       "153  {'unitCode': 'wmoUnit:degC', 'value': 16.66666...   \n",
       "154  {'unitCode': 'wmoUnit:degC', 'value': 16.66666...   \n",
       "155  {'unitCode': 'wmoUnit:degC', 'value': 16.66666...   \n",
       "\n",
       "                                 relativeHumidity  \n",
       "0    {'unitCode': 'wmoUnit:percent', 'value': 87}  \n",
       "1    {'unitCode': 'wmoUnit:percent', 'value': 90}  \n",
       "2    {'unitCode': 'wmoUnit:percent', 'value': 90}  \n",
       "3    {'unitCode': 'wmoUnit:percent', 'value': 90}  \n",
       "4    {'unitCode': 'wmoUnit:percent', 'value': 93}  \n",
       "..                                            ...  \n",
       "151  {'unitCode': 'wmoUnit:percent', 'value': 87}  \n",
       "152  {'unitCode': 'wmoUnit:percent', 'value': 87}  \n",
       "153  {'unitCode': 'wmoUnit:percent', 'value': 90}  \n",
       "154  {'unitCode': 'wmoUnit:percent', 'value': 93}  \n",
       "155  {'unitCode': 'wmoUnit:percent', 'value': 97}  \n",
       "\n",
       "[156 rows x 4 columns]"
      ]
     },
     "execution_count": 47,
     "metadata": {},
     "output_type": "execute_result"
    }
   ],
   "source": [
    "temperature_df = pd.DataFrame(columns=['startTime', 'temperature', 'dewpoint', 'relativeHumidity'])\n",
    "\n",
    "for index, row in df.iterrows():\n",
    "    startTime = row['startTime']\n",
    "    temperature = row['temperature']\n",
    "    dewpoint = row['dewpoint']\n",
    "    relativeHumidity = row['relativeHumidity']\n",
    "\n",
    "    new_row = pd.DataFrame({'startTime' : [startTime],\n",
    "                            'temperature' : [temperature],\n",
    "                            'dewpoint' : [dewpoint],\n",
    "                            'relativeHumidity' : [relativeHumidity]})\n",
    "    temperature_df = temperature_df.append(new_row, ignore_index=True)\n",
    "\n",
    "temperature_df\n"
   ]
  },
  {
   "cell_type": "code",
   "execution_count": 51,
   "metadata": {},
   "outputs": [
    {
     "name": "stdout",
     "output_type": "stream",
     "text": [
      "Request failed with status code: 400\n"
     ]
    }
   ],
   "source": [
    "url = 'https://www.ncei.noaa.gov/access/services/data/v1'\n",
    "\n",
    "params = {\n",
    "    'dataset': 'daily-summaries'}\n",
    "\n",
    "# Send GET request\n",
    "response = requests.get(url, params=params)\n",
    "\n",
    "# Check if the request was successful (status code 200)\n",
    "if response.status_code == 200:\n",
    "    # Print the response content\n",
    "    print(response.content.decode())\n",
    "else:\n",
    "    print(f'Request failed with status code: {response.status_code}')"
   ]
  },
  {
   "cell_type": "markdown",
   "metadata": {},
   "source": [
    "https://www.ncei.noaa.gov/access/search/index"
   ]
  }
 ],
 "metadata": {
  "kernelspec": {
   "display_name": "base",
   "language": "python",
   "name": "python3"
  },
  "language_info": {
   "codemirror_mode": {
    "name": "ipython",
    "version": 3
   },
   "file_extension": ".py",
   "mimetype": "text/x-python",
   "name": "python",
   "nbconvert_exporter": "python",
   "pygments_lexer": "ipython3",
   "version": "3.9.13"
  },
  "orig_nbformat": 4
 },
 "nbformat": 4,
 "nbformat_minor": 2
}
