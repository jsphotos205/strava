{
 "cells": [
  {
   "cell_type": "code",
   "execution_count": 2,
   "metadata": {},
   "outputs": [],
   "source": [
    "import requests\n",
    "import secrets"
   ]
  },
  {
   "cell_type": "code",
   "execution_count": 3,
   "metadata": {},
   "outputs": [],
   "source": [
    "auth_url = 'https://www.ncei.noaa.gov/cdo-web/api/v2/data'\n",
    "\n",
    "params = {\n",
    "    'datasetid' : 'GHCND',\n",
    "    'locationid' : 'FIPS:US',\n",
    "    'startdate' : '2023-01-01',\n",
    "    'enddate' : '2023-01-31'\n",
    "}\n",
    "\n",
    "api_token = secrets.noaa_key\n",
    "\n",
    "headers = {\n",
    "    'token' : api_token\n",
    "}\n",
    "\n",
    "response = requests.get(auth_url, params=params, headers=headers)"
   ]
  },
  {
   "cell_type": "code",
   "execution_count": 4,
   "metadata": {},
   "outputs": [
    {
     "name": "stdout",
     "output_type": "stream",
     "text": [
      "{'metadata': {'resultset': {'offset': 1, 'count': 2363109, 'limit': 25}}, 'results': [{'date': '2023-01-01T00:00:00', 'datatype': 'PRCP', 'station': 'GHCND:AQC00914000', 'attributes': ',,7,1000', 'value': 0}, {'date': '2023-01-01T00:00:00', 'datatype': 'PRCP', 'station': 'GHCND:AQC00914141', 'attributes': ',,7,', 'value': 0}, {'date': '2023-01-01T00:00:00', 'datatype': 'PRCP', 'station': 'GHCND:AQC00914594', 'attributes': ',,7,', 'value': 0}, {'date': '2023-01-01T00:00:00', 'datatype': 'ADPT', 'station': 'GHCND:AQW00061705', 'attributes': ',,W,', 'value': 250}, {'date': '2023-01-01T00:00:00', 'datatype': 'ASLP', 'station': 'GHCND:AQW00061705', 'attributes': ',,W,', 'value': 10098}, {'date': '2023-01-01T00:00:00', 'datatype': 'ASTP', 'station': 'GHCND:AQW00061705', 'attributes': ',,W,', 'value': 10095}, {'date': '2023-01-01T00:00:00', 'datatype': 'AWBT', 'station': 'GHCND:AQW00061705', 'attributes': ',,W,', 'value': 256}, {'date': '2023-01-01T00:00:00', 'datatype': 'AWND', 'station': 'GHCND:AQW00061705', 'attributes': ',,W,', 'value': 21}, {'date': '2023-01-01T00:00:00', 'datatype': 'PRCP', 'station': 'GHCND:AQW00061705', 'attributes': ',,W,2400', 'value': 577}, {'date': '2023-01-01T00:00:00', 'datatype': 'RHAV', 'station': 'GHCND:AQW00061705', 'attributes': ',,W,', 'value': 91}, {'date': '2023-01-01T00:00:00', 'datatype': 'RHMN', 'station': 'GHCND:AQW00061705', 'attributes': ',,W,', 'value': 82}, {'date': '2023-01-01T00:00:00', 'datatype': 'RHMX', 'station': 'GHCND:AQW00061705', 'attributes': ',,W,', 'value': 96}, {'date': '2023-01-01T00:00:00', 'datatype': 'TAVG', 'station': 'GHCND:AQW00061705', 'attributes': 'H,,S,', 'value': 282}, {'date': '2023-01-01T00:00:00', 'datatype': 'TMAX', 'station': 'GHCND:AQW00061705', 'attributes': ',,W,2400', 'value': 302}, {'date': '2023-01-01T00:00:00', 'datatype': 'TMIN', 'station': 'GHCND:AQW00061705', 'attributes': ',,W,2400', 'value': 239}, {'date': '2023-01-01T00:00:00', 'datatype': 'WDF2', 'station': 'GHCND:AQW00061705', 'attributes': ',,W,', 'value': 340}, {'date': '2023-01-01T00:00:00', 'datatype': 'WDF5', 'station': 'GHCND:AQW00061705', 'attributes': ',,W,', 'value': 330}, {'date': '2023-01-01T00:00:00', 'datatype': 'WSF2', 'station': 'GHCND:AQW00061705', 'attributes': ',,W,', 'value': 46}, {'date': '2023-01-01T00:00:00', 'datatype': 'WSF5', 'station': 'GHCND:AQW00061705', 'attributes': ',,W,', 'value': 76}, {'date': '2023-01-01T00:00:00', 'datatype': 'PRCP', 'station': 'GHCND:CA001018611', 'attributes': ',,C,', 'value': 0}, {'date': '2023-01-01T00:00:00', 'datatype': 'TAVG', 'station': 'GHCND:CA001018611', 'attributes': ',,C,', 'value': 53}, {'date': '2023-01-01T00:00:00', 'datatype': 'TMAX', 'station': 'GHCND:CA001018611', 'attributes': ',,C,', 'value': 71}, {'date': '2023-01-01T00:00:00', 'datatype': 'TMIN', 'station': 'GHCND:CA001018611', 'attributes': ',,C,', 'value': 35}, {'date': '2023-01-01T00:00:00', 'datatype': 'PRCP', 'station': 'GHCND:CA001135126', 'attributes': ',,C,', 'value': 0}, {'date': '2023-01-01T00:00:00', 'datatype': 'SNOW', 'station': 'GHCND:CA001135126', 'attributes': ',,C,', 'value': 0}]}\n"
     ]
    }
   ],
   "source": [
    "if response.status_code == 200:\n",
    "    data = response.json()\n",
    "    print(data)\n",
    "else:\n",
    "    print('Request failed with status code:', response.status_code)"
   ]
  }
 ],
 "metadata": {
  "kernelspec": {
   "display_name": "base",
   "language": "python",
   "name": "python3"
  },
  "language_info": {
   "codemirror_mode": {
    "name": "ipython",
    "version": 3
   },
   "file_extension": ".py",
   "mimetype": "text/x-python",
   "name": "python",
   "nbconvert_exporter": "python",
   "pygments_lexer": "ipython3",
   "version": "3.9.13"
  },
  "orig_nbformat": 4
 },
 "nbformat": 4,
 "nbformat_minor": 2
}
