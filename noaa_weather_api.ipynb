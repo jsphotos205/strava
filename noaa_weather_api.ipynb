{
 "cells": [
  {
   "cell_type": "code",
   "execution_count": 4,
   "metadata": {},
   "outputs": [
    {
     "ename": "ImportError",
     "evalue": "cannot import name 'NOAAData' from 'noaa_api_v2' (/Users/johnchristophersloan/strava_da2_codekentucky/noaa_api_v2.py)",
     "output_type": "error",
     "traceback": [
      "\u001b[0;31m---------------------------------------------------------------------------\u001b[0m",
      "\u001b[0;31mImportError\u001b[0m                               Traceback (most recent call last)",
      "Cell \u001b[0;32mIn[4], line 2\u001b[0m\n\u001b[1;32m      1\u001b[0m \u001b[39mimport\u001b[39;00m \u001b[39msecrets\u001b[39;00m\n\u001b[0;32m----> 2\u001b[0m \u001b[39mfrom\u001b[39;00m \u001b[39mnoaa_api_v2\u001b[39;00m \u001b[39mimport\u001b[39;00m NOAAData\n\u001b[1;32m      4\u001b[0m api_token \u001b[39m=\u001b[39m secrets\u001b[39m.\u001b[39mweather_token\n\u001b[1;32m      6\u001b[0m data \u001b[39m=\u001b[39m NOAAData(api_token)\n",
      "\u001b[0;31mImportError\u001b[0m: cannot import name 'NOAAData' from 'noaa_api_v2' (/Users/johnchristophersloan/strava_da2_codekentucky/noaa_api_v2.py)"
     ]
    }
   ],
   "source": [
    "import secrets\n",
    "from noaa_api_v2 import NOAAData\n",
    "\n",
    "api_token = secrets.weather_token\n",
    "\n",
    "data = NOAAData(api_token)"
   ]
  }
 ],
 "metadata": {
  "kernelspec": {
   "display_name": "base",
   "language": "python",
   "name": "python3"
  },
  "language_info": {
   "codemirror_mode": {
    "name": "ipython",
    "version": 3
   },
   "file_extension": ".py",
   "mimetype": "text/x-python",
   "name": "python",
   "nbconvert_exporter": "python",
   "pygments_lexer": "ipython3",
   "version": "3.9.13"
  },
  "orig_nbformat": 4
 },
 "nbformat": 4,
 "nbformat_minor": 2
}
