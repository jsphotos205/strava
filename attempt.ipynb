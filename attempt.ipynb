{
 "cells": [
  {
   "cell_type": "code",
   "execution_count": 273,
   "metadata": {},
   "outputs": [],
   "source": [
    "import pandas as pd"
   ]
  },
  {
   "cell_type": "code",
   "execution_count": 274,
   "metadata": {},
   "outputs": [
    {
     "data": {
      "text/html": [
       "<div>\n",
       "<style scoped>\n",
       "    .dataframe tbody tr th:only-of-type {\n",
       "        vertical-align: middle;\n",
       "    }\n",
       "\n",
       "    .dataframe tbody tr th {\n",
       "        vertical-align: top;\n",
       "    }\n",
       "\n",
       "    .dataframe thead th {\n",
       "        text-align: right;\n",
       "    }\n",
       "</style>\n",
       "<table border=\"1\" class=\"dataframe\">\n",
       "  <thead>\n",
       "    <tr style=\"text-align: right;\">\n",
       "      <th></th>\n",
       "      <th>DATE</th>\n",
       "      <th>PRCP</th>\n",
       "      <th>SNOW</th>\n",
       "      <th>SNWD</th>\n",
       "      <th>TMAX</th>\n",
       "      <th>TMIN</th>\n",
       "      <th>TOBS</th>\n",
       "      <th>FOG</th>\n",
       "      <th>THUNDER</th>\n",
       "      <th>HAIL</th>\n",
       "      <th>RIME</th>\n",
       "      <th>WIND</th>\n",
       "    </tr>\n",
       "  </thead>\n",
       "  <tbody>\n",
       "    <tr>\n",
       "      <th>0</th>\n",
       "      <td>2022-01-01 00:00:00+00:00</td>\n",
       "      <td>1.91</td>\n",
       "      <td>0.0</td>\n",
       "      <td>0.0</td>\n",
       "      <td>63.0</td>\n",
       "      <td>46.0</td>\n",
       "      <td>57.0</td>\n",
       "      <td>0.0</td>\n",
       "      <td>1.0</td>\n",
       "      <td>0.0</td>\n",
       "      <td>0.0</td>\n",
       "      <td>0.0</td>\n",
       "    </tr>\n",
       "    <tr>\n",
       "      <th>1</th>\n",
       "      <td>2022-01-02 00:00:00+00:00</td>\n",
       "      <td>1.44</td>\n",
       "      <td>0.0</td>\n",
       "      <td>0.0</td>\n",
       "      <td>70.0</td>\n",
       "      <td>50.0</td>\n",
       "      <td>50.0</td>\n",
       "      <td>0.0</td>\n",
       "      <td>0.0</td>\n",
       "      <td>0.0</td>\n",
       "      <td>0.0</td>\n",
       "      <td>0.0</td>\n",
       "    </tr>\n",
       "    <tr>\n",
       "      <th>2</th>\n",
       "      <td>2022-01-03 00:00:00+00:00</td>\n",
       "      <td>0.05</td>\n",
       "      <td>0.0</td>\n",
       "      <td>0.0</td>\n",
       "      <td>50.0</td>\n",
       "      <td>26.0</td>\n",
       "      <td>27.0</td>\n",
       "      <td>0.0</td>\n",
       "      <td>0.0</td>\n",
       "      <td>0.0</td>\n",
       "      <td>0.0</td>\n",
       "      <td>0.0</td>\n",
       "    </tr>\n",
       "    <tr>\n",
       "      <th>3</th>\n",
       "      <td>2022-01-04 00:00:00+00:00</td>\n",
       "      <td>0.00</td>\n",
       "      <td>0.0</td>\n",
       "      <td>0.0</td>\n",
       "      <td>32.0</td>\n",
       "      <td>19.0</td>\n",
       "      <td>23.0</td>\n",
       "      <td>0.0</td>\n",
       "      <td>0.0</td>\n",
       "      <td>0.0</td>\n",
       "      <td>0.0</td>\n",
       "      <td>0.0</td>\n",
       "    </tr>\n",
       "    <tr>\n",
       "      <th>4</th>\n",
       "      <td>2022-01-05 00:00:00+00:00</td>\n",
       "      <td>0.00</td>\n",
       "      <td>0.0</td>\n",
       "      <td>0.0</td>\n",
       "      <td>45.0</td>\n",
       "      <td>23.0</td>\n",
       "      <td>42.0</td>\n",
       "      <td>0.0</td>\n",
       "      <td>0.0</td>\n",
       "      <td>0.0</td>\n",
       "      <td>0.0</td>\n",
       "      <td>0.0</td>\n",
       "    </tr>\n",
       "  </tbody>\n",
       "</table>\n",
       "</div>"
      ],
      "text/plain": [
       "                        DATE  PRCP  SNOW  SNWD  TMAX  TMIN  TOBS  FOG  \\\n",
       "0  2022-01-01 00:00:00+00:00  1.91   0.0   0.0  63.0  46.0  57.0  0.0   \n",
       "1  2022-01-02 00:00:00+00:00  1.44   0.0   0.0  70.0  50.0  50.0  0.0   \n",
       "2  2022-01-03 00:00:00+00:00  0.05   0.0   0.0  50.0  26.0  27.0  0.0   \n",
       "3  2022-01-04 00:00:00+00:00  0.00   0.0   0.0  32.0  19.0  23.0  0.0   \n",
       "4  2022-01-05 00:00:00+00:00  0.00   0.0   0.0  45.0  23.0  42.0  0.0   \n",
       "\n",
       "   THUNDER  HAIL  RIME  WIND  \n",
       "0      1.0   0.0   0.0   0.0  \n",
       "1      0.0   0.0   0.0   0.0  \n",
       "2      0.0   0.0   0.0   0.0  \n",
       "3      0.0   0.0   0.0   0.0  \n",
       "4      0.0   0.0   0.0   0.0  "
      ]
     },
     "execution_count": 274,
     "metadata": {},
     "output_type": "execute_result"
    }
   ],
   "source": [
    "weather_df = pd.read_csv('csv/weather/clean_weather_data.csv')\n",
    "weather_df.head()"
   ]
  },
  {
   "cell_type": "code",
   "execution_count": 275,
   "metadata": {},
   "outputs": [
    {
     "name": "stdout",
     "output_type": "stream",
     "text": [
      "<class 'pandas.core.frame.DataFrame'>\n",
      "RangeIndex: 545 entries, 0 to 544\n",
      "Data columns (total 12 columns):\n",
      " #   Column   Non-Null Count  Dtype              \n",
      "---  ------   --------------  -----              \n",
      " 0   DATE     545 non-null    datetime64[ns, UTC]\n",
      " 1   PRCP     545 non-null    float64            \n",
      " 2   SNOW     545 non-null    float64            \n",
      " 3   SNWD     545 non-null    float64            \n",
      " 4   TMAX     545 non-null    float64            \n",
      " 5   TMIN     545 non-null    float64            \n",
      " 6   TOBS     545 non-null    float64            \n",
      " 7   FOG      545 non-null    float64            \n",
      " 8   THUNDER  545 non-null    float64            \n",
      " 9   HAIL     545 non-null    float64            \n",
      " 10  RIME     545 non-null    float64            \n",
      " 11  WIND     545 non-null    float64            \n",
      "dtypes: datetime64[ns, UTC](1), float64(11)\n",
      "memory usage: 51.2 KB\n"
     ]
    }
   ],
   "source": [
    "weather_df['DATE'] = pd.to_datetime(weather_df['DATE'])\n",
    "weather_df.info()"
   ]
  },
  {
   "cell_type": "code",
   "execution_count": 276,
   "metadata": {},
   "outputs": [
    {
     "data": {
      "text/plain": [
       "DATE       545\n",
       "PRCP        87\n",
       "SNOW         8\n",
       "SNWD         6\n",
       "TMAX        74\n",
       "TMIN        71\n",
       "TOBS        71\n",
       "FOG          2\n",
       "THUNDER      2\n",
       "HAIL         2\n",
       "RIME         2\n",
       "WIND         2\n",
       "dtype: int64"
      ]
     },
     "execution_count": 276,
     "metadata": {},
     "output_type": "execute_result"
    }
   ],
   "source": [
    "weather_df.nunique()"
   ]
  },
  {
   "cell_type": "code",
   "execution_count": 277,
   "metadata": {},
   "outputs": [],
   "source": [
    "tmax_weather = weather_df.groupby('DATE')['TMAX'].sum()\n",
    "tmin_weather = weather_df.groupby('DATE')['TMIN'].sum()\n",
    "prcp_weather = weather_df.groupby('DATE')['PRCP'].sum()"
   ]
  },
  {
   "cell_type": "code",
   "execution_count": 278,
   "metadata": {},
   "outputs": [
    {
     "data": {
      "text/plain": [
       "pandas.core.series.Series"
      ]
     },
     "execution_count": 278,
     "metadata": {},
     "output_type": "execute_result"
    }
   ],
   "source": [
    "type(prcp_weather)"
   ]
  },
  {
   "cell_type": "code",
   "execution_count": 279,
   "metadata": {},
   "outputs": [
    {
     "data": {
      "text/plain": [
       "count    545.000000\n",
       "mean       0.148128\n",
       "std        0.384982\n",
       "min        0.000000\n",
       "25%        0.000000\n",
       "50%        0.000000\n",
       "75%        0.090000\n",
       "max        4.240000\n",
       "Name: PRCP, dtype: float64"
      ]
     },
     "execution_count": 279,
     "metadata": {},
     "output_type": "execute_result"
    }
   ],
   "source": [
    "prcp_weather.describe()"
   ]
  },
  {
   "cell_type": "code",
   "execution_count": 280,
   "metadata": {},
   "outputs": [
    {
     "data": {
      "text/html": [
       "<div>\n",
       "<style scoped>\n",
       "    .dataframe tbody tr th:only-of-type {\n",
       "        vertical-align: middle;\n",
       "    }\n",
       "\n",
       "    .dataframe tbody tr th {\n",
       "        vertical-align: top;\n",
       "    }\n",
       "\n",
       "    .dataframe thead th {\n",
       "        text-align: right;\n",
       "    }\n",
       "</style>\n",
       "<table border=\"1\" class=\"dataframe\">\n",
       "  <thead>\n",
       "    <tr style=\"text-align: right;\">\n",
       "      <th></th>\n",
       "      <th>DATE</th>\n",
       "      <th>PRCP</th>\n",
       "    </tr>\n",
       "  </thead>\n",
       "  <tbody>\n",
       "    <tr>\n",
       "      <th>0</th>\n",
       "      <td>2022-01-01 00:00:00+00:00</td>\n",
       "      <td>1.91</td>\n",
       "    </tr>\n",
       "    <tr>\n",
       "      <th>1</th>\n",
       "      <td>2022-01-02 00:00:00+00:00</td>\n",
       "      <td>1.44</td>\n",
       "    </tr>\n",
       "    <tr>\n",
       "      <th>2</th>\n",
       "      <td>2022-01-03 00:00:00+00:00</td>\n",
       "      <td>0.05</td>\n",
       "    </tr>\n",
       "    <tr>\n",
       "      <th>3</th>\n",
       "      <td>2022-01-04 00:00:00+00:00</td>\n",
       "      <td>0.00</td>\n",
       "    </tr>\n",
       "    <tr>\n",
       "      <th>4</th>\n",
       "      <td>2022-01-05 00:00:00+00:00</td>\n",
       "      <td>0.00</td>\n",
       "    </tr>\n",
       "    <tr>\n",
       "      <th>...</th>\n",
       "      <td>...</td>\n",
       "      <td>...</td>\n",
       "    </tr>\n",
       "    <tr>\n",
       "      <th>540</th>\n",
       "      <td>2023-06-28 00:00:00+00:00</td>\n",
       "      <td>0.01</td>\n",
       "    </tr>\n",
       "    <tr>\n",
       "      <th>541</th>\n",
       "      <td>2023-06-29 00:00:00+00:00</td>\n",
       "      <td>0.00</td>\n",
       "    </tr>\n",
       "    <tr>\n",
       "      <th>542</th>\n",
       "      <td>2023-06-30 00:00:00+00:00</td>\n",
       "      <td>0.39</td>\n",
       "    </tr>\n",
       "    <tr>\n",
       "      <th>543</th>\n",
       "      <td>2023-07-01 00:00:00+00:00</td>\n",
       "      <td>0.68</td>\n",
       "    </tr>\n",
       "    <tr>\n",
       "      <th>544</th>\n",
       "      <td>2023-07-02 00:00:00+00:00</td>\n",
       "      <td>0.41</td>\n",
       "    </tr>\n",
       "  </tbody>\n",
       "</table>\n",
       "<p>545 rows × 2 columns</p>\n",
       "</div>"
      ],
      "text/plain": [
       "                         DATE  PRCP\n",
       "0   2022-01-01 00:00:00+00:00  1.91\n",
       "1   2022-01-02 00:00:00+00:00  1.44\n",
       "2   2022-01-03 00:00:00+00:00  0.05\n",
       "3   2022-01-04 00:00:00+00:00  0.00\n",
       "4   2022-01-05 00:00:00+00:00  0.00\n",
       "..                        ...   ...\n",
       "540 2023-06-28 00:00:00+00:00  0.01\n",
       "541 2023-06-29 00:00:00+00:00  0.00\n",
       "542 2023-06-30 00:00:00+00:00  0.39\n",
       "543 2023-07-01 00:00:00+00:00  0.68\n",
       "544 2023-07-02 00:00:00+00:00  0.41\n",
       "\n",
       "[545 rows x 2 columns]"
      ]
     },
     "execution_count": 280,
     "metadata": {},
     "output_type": "execute_result"
    }
   ],
   "source": [
    "tmax_df = pd.DataFrame(tmax_weather)\n",
    "tmin_df = pd.DataFrame(tmin_weather)\n",
    "prcp_df = pd.DataFrame(prcp_weather)\n",
    "\n",
    "tmax_df.reset_index()\n",
    "tmin_df.reset_index()\n",
    "prcp_df.reset_index()"
   ]
  }
 ],
 "metadata": {
  "kernelspec": {
   "display_name": "base",
   "language": "python",
   "name": "python3"
  },
  "language_info": {
   "codemirror_mode": {
    "name": "ipython",
    "version": 3
   },
   "file_extension": ".py",
   "mimetype": "text/x-python",
   "name": "python",
   "nbconvert_exporter": "python",
   "pygments_lexer": "ipython3",
   "version": "3.9.13"
  },
  "orig_nbformat": 4
 },
 "nbformat": 4,
 "nbformat_minor": 2
}
