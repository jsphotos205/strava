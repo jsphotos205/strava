{
 "cells": [
  {
   "cell_type": "code",
   "execution_count": 11,
   "metadata": {},
   "outputs": [],
   "source": [
    "import pandas as pd"
   ]
  },
  {
   "cell_type": "code",
   "execution_count": 12,
   "metadata": {},
   "outputs": [],
   "source": [
    "sore_heel_loop = pd.read_csv('csv/run/only_sore_heel_loop.csv')"
   ]
  },
  {
   "cell_type": "code",
   "execution_count": 15,
   "metadata": {},
   "outputs": [],
   "source": [
    "miles_describe = sore_heel_loop['distance_miles'].describe()\n",
    "temp_avg_describe = sore_heel_loop['tavg'].describe()\n",
    "temp_max_describe = sore_heel_loop['tmax'].describe()\n",
    "temp_min_describe = sore_heel_loop['tmin'].describe()"
   ]
  },
  {
   "cell_type": "code",
   "execution_count": 24,
   "metadata": {},
   "outputs": [
    {
     "name": "stdout",
     "output_type": "stream",
     "text": [
      "Miles :count    10.000000\n",
      "mean      4.445000\n",
      "std       0.322051\n",
      "min       4.070000\n",
      "25%       4.280000\n",
      "50%       4.405000\n",
      "75%       4.570000\n",
      "max       5.180000\n",
      "Name: distance_miles, dtype: float64 Temperature Max:count    10.00000\n",
      "mean     69.09800\n",
      "std      12.73116\n",
      "min      48.92000\n",
      "25%      60.08000\n",
      "50%      68.72000\n",
      "75%      81.45500\n",
      "max      84.20000\n",
      "Name: tmax, dtype: float64\n"
     ]
    }
   ],
   "source": [
    "print(f'Miles :{miles_describe}',\n",
    "      f'Temperature Max:{temp_max_describe}')"
   ]
  }
 ],
 "metadata": {
  "kernelspec": {
   "display_name": "base",
   "language": "python",
   "name": "python3"
  },
  "language_info": {
   "codemirror_mode": {
    "name": "ipython",
    "version": 3
   },
   "file_extension": ".py",
   "mimetype": "text/x-python",
   "name": "python",
   "nbconvert_exporter": "python",
   "pygments_lexer": "ipython3",
   "version": "3.9.13"
  },
  "orig_nbformat": 4
 },
 "nbformat": 4,
 "nbformat_minor": 2
}
