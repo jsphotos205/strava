{
 "cells": [
  {
   "cell_type": "code",
   "execution_count": 14,
   "metadata": {},
   "outputs": [],
   "source": [
    "import requests\n",
    "import urllib3\n",
    "import secrets\n",
    "import pandas as pd\n",
    "import seaborn as sns\n",
    "import matplotlib.pyplot as plt"
   ]
  },
  {
   "cell_type": "code",
   "execution_count": 15,
   "metadata": {},
   "outputs": [],
   "source": [
    "urllib3.disable_warnings(urllib3.exceptions.InsecureRequestWarning)"
   ]
  },
  {
   "attachments": {},
   "cell_type": "markdown",
   "metadata": {},
   "source": [
    "## Strava API Request"
   ]
  },
  {
   "cell_type": "code",
   "execution_count": 16,
   "metadata": {},
   "outputs": [
    {
     "name": "stdout",
     "output_type": "stream",
     "text": [
      "Requesting Strava token... \n",
      "\n",
      "all activities is NOT populated\n",
      "all activities is populated\n",
      "all activities is populated\n",
      "all activities is populated\n",
      "breaking out of Strava while loop because the response is zero, indicating no more activities.\n",
      "Total Activities:  50\n"
     ]
    }
   ],
   "source": [
    "auth_url = 'https://www.strava.com/oauth/token'\n",
    "activities_url = 'https://www.strava.com/api/v3/athlete/activities'\n",
    "\n",
    "print('Requesting Strava token... \\n')\n",
    "res = requests.post(auth_url, data=secrets.strava_payload, verify=False)\n",
    "strava_access_token = res.json()['access_token']\n",
    "\n",
    "header = {'Authorization': 'Bearer ' + strava_access_token}\n",
    "\n",
    "strava_requests_page_num = 1\n",
    "all_activities = []\n",
    "\n",
    "while True:\n",
    "    strava_param = {'per_page' : 15, 'page' : strava_requests_page_num}\n",
    "    strava_dataset = requests.get(activities_url, headers=header, params=strava_param).json()\n",
    "\n",
    "    if len(strava_dataset) == 0:\n",
    "        print('breaking out of Strava while loop because the response is zero, indicating no more activities.')\n",
    "        break\n",
    "\n",
    "    if all_activities:\n",
    "        print('all activities is populated')\n",
    "        all_activities.extend(strava_dataset)\n",
    "\n",
    "    else:\n",
    "        print('all activities is NOT populated')\n",
    "        all_activities = strava_dataset\n",
    "\n",
    "    strava_requests_page_num += 1\n",
    "\n",
    "print('Total Activities: ', len(all_activities))"
   ]
  },
  {
   "attachments": {},
   "cell_type": "markdown",
   "metadata": {},
   "source": [
    "## Creating pandas dataframe for running data"
   ]
  },
  {
   "cell_type": "code",
   "execution_count": 17,
   "metadata": {},
   "outputs": [],
   "source": [
    "run_data = pd.DataFrame(data=all_activities)"
   ]
  },
  {
   "cell_type": "code",
   "execution_count": 18,
   "metadata": {},
   "outputs": [
    {
     "data": {
      "text/plain": [
       "Index(['resource_state', 'athlete', 'name', 'distance', 'moving_time',\n",
       "       'elapsed_time', 'total_elevation_gain', 'type', 'sport_type',\n",
       "       'workout_type', 'id', 'start_date', 'start_date_local', 'timezone',\n",
       "       'utc_offset', 'location_city', 'location_state', 'location_country',\n",
       "       'achievement_count', 'kudos_count', 'comment_count', 'athlete_count',\n",
       "       'photo_count', 'map', 'trainer', 'commute', 'manual', 'private',\n",
       "       'visibility', 'flagged', 'gear_id', 'start_latlng', 'end_latlng',\n",
       "       'average_speed', 'max_speed', 'has_heartrate', 'heartrate_opt_out',\n",
       "       'display_hide_heartrate_option', 'elev_high', 'elev_low', 'upload_id',\n",
       "       'upload_id_str', 'external_id', 'from_accepted_tag', 'pr_count',\n",
       "       'total_photo_count', 'has_kudoed', 'suffer_score', 'average_watts',\n",
       "       'kilojoules', 'device_watts'],\n",
       "      dtype='object')"
      ]
     },
     "execution_count": 18,
     "metadata": {},
     "output_type": "execute_result"
    }
   ],
   "source": [
    "run_data.columns"
   ]
  },
  {
   "cell_type": "code",
   "execution_count": 19,
   "metadata": {},
   "outputs": [
    {
     "data": {
      "text/html": [
       "<div>\n",
       "<style scoped>\n",
       "    .dataframe tbody tr th:only-of-type {\n",
       "        vertical-align: middle;\n",
       "    }\n",
       "\n",
       "    .dataframe tbody tr th {\n",
       "        vertical-align: top;\n",
       "    }\n",
       "\n",
       "    .dataframe thead th {\n",
       "        text-align: right;\n",
       "    }\n",
       "</style>\n",
       "<table border=\"1\" class=\"dataframe\">\n",
       "  <thead>\n",
       "    <tr style=\"text-align: right;\">\n",
       "      <th></th>\n",
       "      <th>resource_state</th>\n",
       "      <th>athlete</th>\n",
       "      <th>name</th>\n",
       "      <th>distance</th>\n",
       "      <th>moving_time</th>\n",
       "      <th>elapsed_time</th>\n",
       "      <th>total_elevation_gain</th>\n",
       "      <th>type</th>\n",
       "      <th>sport_type</th>\n",
       "      <th>workout_type</th>\n",
       "      <th>...</th>\n",
       "      <th>upload_id_str</th>\n",
       "      <th>external_id</th>\n",
       "      <th>from_accepted_tag</th>\n",
       "      <th>pr_count</th>\n",
       "      <th>total_photo_count</th>\n",
       "      <th>has_kudoed</th>\n",
       "      <th>suffer_score</th>\n",
       "      <th>average_watts</th>\n",
       "      <th>kilojoules</th>\n",
       "      <th>device_watts</th>\n",
       "    </tr>\n",
       "  </thead>\n",
       "  <tbody>\n",
       "    <tr>\n",
       "      <th>0</th>\n",
       "      <td>2</td>\n",
       "      <td>{'id': 8586088, 'resource_state': 1}</td>\n",
       "      <td>PMRP : Sore Heel Loop</td>\n",
       "      <td>7090.5</td>\n",
       "      <td>2341</td>\n",
       "      <td>2365</td>\n",
       "      <td>210.0</td>\n",
       "      <td>Run</td>\n",
       "      <td>Run</td>\n",
       "      <td>0.0</td>\n",
       "      <td>...</td>\n",
       "      <td>10124522361</td>\n",
       "      <td>0B1C68DC-4E71-4EBB-8217-F688A9582DCD-activity.fit</td>\n",
       "      <td>False</td>\n",
       "      <td>0</td>\n",
       "      <td>0</td>\n",
       "      <td>False</td>\n",
       "      <td>NaN</td>\n",
       "      <td>NaN</td>\n",
       "      <td>NaN</td>\n",
       "      <td>NaN</td>\n",
       "    </tr>\n",
       "    <tr>\n",
       "      <th>1</th>\n",
       "      <td>2</td>\n",
       "      <td>{'id': 8586088, 'resource_state': 1}</td>\n",
       "      <td>Ten Sleep : French Cattle Ranch Approach</td>\n",
       "      <td>1594.6</td>\n",
       "      <td>1483</td>\n",
       "      <td>1483</td>\n",
       "      <td>186.4</td>\n",
       "      <td>Hike</td>\n",
       "      <td>Hike</td>\n",
       "      <td>NaN</td>\n",
       "      <td>...</td>\n",
       "      <td>10023599286</td>\n",
       "      <td>70EA4DF3-F218-4DB7-B818-E242D7EC3F45-activity.fit</td>\n",
       "      <td>False</td>\n",
       "      <td>0</td>\n",
       "      <td>0</td>\n",
       "      <td>False</td>\n",
       "      <td>NaN</td>\n",
       "      <td>NaN</td>\n",
       "      <td>NaN</td>\n",
       "      <td>NaN</td>\n",
       "    </tr>\n",
       "    <tr>\n",
       "      <th>2</th>\n",
       "      <td>2</td>\n",
       "      <td>{'id': 8586088, 'resource_state': 1}</td>\n",
       "      <td>Ten Sleep : Approach to Downtown</td>\n",
       "      <td>471.3</td>\n",
       "      <td>625</td>\n",
       "      <td>656</td>\n",
       "      <td>90.8</td>\n",
       "      <td>Hike</td>\n",
       "      <td>Hike</td>\n",
       "      <td>NaN</td>\n",
       "      <td>...</td>\n",
       "      <td>10004892705</td>\n",
       "      <td>7A3018DD-C2AB-447C-AF8E-92D86CE6B16E-activity.fit</td>\n",
       "      <td>False</td>\n",
       "      <td>0</td>\n",
       "      <td>0</td>\n",
       "      <td>False</td>\n",
       "      <td>NaN</td>\n",
       "      <td>NaN</td>\n",
       "      <td>NaN</td>\n",
       "      <td>NaN</td>\n",
       "    </tr>\n",
       "    <tr>\n",
       "      <th>3</th>\n",
       "      <td>2</td>\n",
       "      <td>{'id': 8586088, 'resource_state': 1}</td>\n",
       "      <td>Ten Sleep : Morning Run</td>\n",
       "      <td>2927.4</td>\n",
       "      <td>937</td>\n",
       "      <td>943</td>\n",
       "      <td>27.1</td>\n",
       "      <td>Run</td>\n",
       "      <td>Run</td>\n",
       "      <td>0.0</td>\n",
       "      <td>...</td>\n",
       "      <td>9970213520</td>\n",
       "      <td>D9326B4B-A20A-4FFC-963A-A75D2D17971D-activity.fit</td>\n",
       "      <td>False</td>\n",
       "      <td>0</td>\n",
       "      <td>0</td>\n",
       "      <td>False</td>\n",
       "      <td>NaN</td>\n",
       "      <td>NaN</td>\n",
       "      <td>NaN</td>\n",
       "      <td>NaN</td>\n",
       "    </tr>\n",
       "    <tr>\n",
       "      <th>4</th>\n",
       "      <td>2</td>\n",
       "      <td>{'id': 8586088, 'resource_state': 1}</td>\n",
       "      <td>Ten Sleep : Morning Run</td>\n",
       "      <td>3801.4</td>\n",
       "      <td>1185</td>\n",
       "      <td>1327</td>\n",
       "      <td>61.0</td>\n",
       "      <td>Run</td>\n",
       "      <td>Run</td>\n",
       "      <td>0.0</td>\n",
       "      <td>...</td>\n",
       "      <td>9970213502</td>\n",
       "      <td>9E9E8812-BB6B-4016-96DA-8E72047B2967-activity.fit</td>\n",
       "      <td>False</td>\n",
       "      <td>2</td>\n",
       "      <td>0</td>\n",
       "      <td>False</td>\n",
       "      <td>NaN</td>\n",
       "      <td>NaN</td>\n",
       "      <td>NaN</td>\n",
       "      <td>NaN</td>\n",
       "    </tr>\n",
       "  </tbody>\n",
       "</table>\n",
       "<p>5 rows × 51 columns</p>\n",
       "</div>"
      ],
      "text/plain": [
       "   resource_state                               athlete  \\\n",
       "0               2  {'id': 8586088, 'resource_state': 1}   \n",
       "1               2  {'id': 8586088, 'resource_state': 1}   \n",
       "2               2  {'id': 8586088, 'resource_state': 1}   \n",
       "3               2  {'id': 8586088, 'resource_state': 1}   \n",
       "4               2  {'id': 8586088, 'resource_state': 1}   \n",
       "\n",
       "                                       name  distance  moving_time  \\\n",
       "0                     PMRP : Sore Heel Loop    7090.5         2341   \n",
       "1  Ten Sleep : French Cattle Ranch Approach    1594.6         1483   \n",
       "2          Ten Sleep : Approach to Downtown     471.3          625   \n",
       "3                   Ten Sleep : Morning Run    2927.4          937   \n",
       "4                   Ten Sleep : Morning Run    3801.4         1185   \n",
       "\n",
       "   elapsed_time  total_elevation_gain  type sport_type  workout_type  ...  \\\n",
       "0          2365                 210.0   Run        Run           0.0  ...   \n",
       "1          1483                 186.4  Hike       Hike           NaN  ...   \n",
       "2           656                  90.8  Hike       Hike           NaN  ...   \n",
       "3           943                  27.1   Run        Run           0.0  ...   \n",
       "4          1327                  61.0   Run        Run           0.0  ...   \n",
       "\n",
       "   upload_id_str                                        external_id  \\\n",
       "0    10124522361  0B1C68DC-4E71-4EBB-8217-F688A9582DCD-activity.fit   \n",
       "1    10023599286  70EA4DF3-F218-4DB7-B818-E242D7EC3F45-activity.fit   \n",
       "2    10004892705  7A3018DD-C2AB-447C-AF8E-92D86CE6B16E-activity.fit   \n",
       "3     9970213520  D9326B4B-A20A-4FFC-963A-A75D2D17971D-activity.fit   \n",
       "4     9970213502  9E9E8812-BB6B-4016-96DA-8E72047B2967-activity.fit   \n",
       "\n",
       "  from_accepted_tag pr_count  total_photo_count has_kudoed suffer_score  \\\n",
       "0             False        0                  0      False          NaN   \n",
       "1             False        0                  0      False          NaN   \n",
       "2             False        0                  0      False          NaN   \n",
       "3             False        0                  0      False          NaN   \n",
       "4             False        2                  0      False          NaN   \n",
       "\n",
       "  average_watts  kilojoules  device_watts  \n",
       "0           NaN         NaN           NaN  \n",
       "1           NaN         NaN           NaN  \n",
       "2           NaN         NaN           NaN  \n",
       "3           NaN         NaN           NaN  \n",
       "4           NaN         NaN           NaN  \n",
       "\n",
       "[5 rows x 51 columns]"
      ]
     },
     "execution_count": 19,
     "metadata": {},
     "output_type": "execute_result"
    }
   ],
   "source": [
    "run_data.head()"
   ]
  },
  {
   "cell_type": "code",
   "execution_count": 20,
   "metadata": {},
   "outputs": [],
   "source": [
    "columns_to_drop = ['athlete',\n",
    "                   'resource_state', \n",
    "                   'sport_type', \n",
    "                   'workout_type',\n",
    "                   'location_city',\n",
    "                   'location_state',\n",
    "                   'location_country', \n",
    "                   'kudos_count', \n",
    "                   'comment_count', \n",
    "                   'athlete_count', \n",
    "                   'photo_count', \n",
    "                   'trainer', \n",
    "                   'commute', \n",
    "                   'manual', \n",
    "                   'private',\n",
    "                   'visibility', \n",
    "                   'flagged', \n",
    "                   'gear_id', \n",
    "                   'has_heartrate', \n",
    "                   'heartrate_opt_out', \n",
    "                   'display_hide_heartrate_option', \n",
    "                   'from_accepted_tag', \n",
    "                   'total_photo_count', \n",
    "                   'has_kudoed', \n",
    "                   'average_watts', \n",
    "                   'kilojoules',\n",
    "                   'achievement_count',\n",
    "                   'device_watts',\n",
    "                   'upload_id_str',\n",
    "                   'upload_id',\n",
    "                   'external_id',\n",
    "                   'id', \n",
    "                   'suffer_score']\n",
    "\n",
    "run_data.drop(columns=columns_to_drop, inplace=True)"
   ]
  },
  {
   "cell_type": "code",
   "execution_count": 21,
   "metadata": {},
   "outputs": [
    {
     "data": {
      "text/plain": [
       "Index(['name', 'distance', 'moving_time', 'elapsed_time',\n",
       "       'total_elevation_gain', 'type', 'start_date', 'start_date_local',\n",
       "       'timezone', 'utc_offset', 'map', 'start_latlng', 'end_latlng',\n",
       "       'average_speed', 'max_speed', 'elev_high', 'elev_low', 'pr_count'],\n",
       "      dtype='object')"
      ]
     },
     "execution_count": 21,
     "metadata": {},
     "output_type": "execute_result"
    }
   ],
   "source": [
    "run_data.columns"
   ]
  },
  {
   "cell_type": "code",
   "execution_count": 22,
   "metadata": {},
   "outputs": [],
   "source": [
    "run_data = run_data.loc[run_data['type'] == 'Run']"
   ]
  },
  {
   "attachments": {},
   "cell_type": "markdown",
   "metadata": {},
   "source": [
    "## Conversions for Metrics"
   ]
  },
  {
   "cell_type": "code",
   "execution_count": 23,
   "metadata": {},
   "outputs": [],
   "source": [
    "run_data['distance_miles'] = round(run_data['distance'] * 0.00062137119, 2)\n",
    "run_data['moving_time_minutes'] = round(run_data['moving_time'] / 60, 2)\n",
    "run_data['moving_time_hours'] = round(run_data['moving_time'] / 3600, 2)"
   ]
  },
  {
   "cell_type": "code",
   "execution_count": 24,
   "metadata": {},
   "outputs": [
    {
     "name": "stdout",
     "output_type": "stream",
     "text": [
      "Average Distance (miles): 3.97\n",
      "Average Time Ran (minutes): 40.64\n",
      "Longest Run: 9.62 miles\n",
      "Longest Duration: 117.57 minutes. Converted to hours: 1.96\n",
      "Total Distance Covered to the date (miles): 134.89\n"
     ]
    }
   ],
   "source": [
    "average_distance_miles = round(run_data['distance_miles'].mean(), 2)\n",
    "print(\"Average Distance (miles):\", average_distance_miles)\n",
    "\n",
    "average_time_minutes = round(run_data['moving_time_minutes'].mean(), 2)\n",
    "print(\"Average Time Ran (minutes):\", average_time_minutes)\n",
    "\n",
    "max_distance_ran = round(run_data['distance_miles'].max(), 2)\n",
    "print(\"Longest Run:\", max_distance_ran, \"miles\")\n",
    "\n",
    "max_duration_mintues = round(run_data['moving_time_minutes'].max(), 2)\n",
    "max_duration_hours = round(run_data['moving_time_hours'].max(), 2)\n",
    "print(\"Longest Duration:\", max_duration_mintues,\"minutes. Converted to hours:\", max_duration_hours)\n",
    "\n",
    "total_distance_miles = round(run_data['distance'].sum() * 0.00062137119, 2)\n",
    "print(\"Total Distance Covered to the date (miles):\", total_distance_miles)"
   ]
  },
  {
   "cell_type": "code",
   "execution_count": 25,
   "metadata": {},
   "outputs": [],
   "source": [
    "pmrp_run_data = run_data[run_data['name'].str.contains('PMRP', case=False, na=False)]\n",
    "rrg_run_data = run_data[run_data['name'].str.contains('RRG', case=False, na=False)]"
   ]
  },
  {
   "cell_type": "code",
   "execution_count": 26,
   "metadata": {},
   "outputs": [],
   "source": [
    "all_csv_path = 'csv/run/all_run_data.csv'\n",
    "pmrp_csv_path = 'csv/run/pmrp_run_data.csv'\n",
    "rrg_csv_path = 'csv/run/rrg_run_data.csv'\n",
    "\n",
    "run_data.to_csv(all_csv_path, index=False)\n",
    "pmrp_run_data.to_csv(pmrp_csv_path, index=False)\n",
    "rrg_run_data.to_csv(rrg_csv_path, index=False)"
   ]
  }
 ],
 "metadata": {
  "kernelspec": {
   "display_name": "Python 3",
   "language": "python",
   "name": "python3"
  },
  "language_info": {
   "codemirror_mode": {
    "name": "ipython",
    "version": 3
   },
   "file_extension": ".py",
   "mimetype": "text/x-python",
   "name": "python",
   "nbconvert_exporter": "python",
   "pygments_lexer": "ipython3",
   "version": "3.9.13"
  },
  "orig_nbformat": 4
 },
 "nbformat": 4,
 "nbformat_minor": 2
}
