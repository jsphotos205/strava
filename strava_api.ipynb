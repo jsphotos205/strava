{
 "cells": [
  {
   "cell_type": "code",
   "execution_count": 2,
   "metadata": {},
   "outputs": [],
   "source": [
    "import requests\n",
    "import urllib3\n",
    "import secrets\n",
    "import pandas as pd\n",
    "import seaborn as sns\n",
    "import matplotlib.pyplot as plt"
   ]
  },
  {
   "cell_type": "code",
   "execution_count": 3,
   "metadata": {},
   "outputs": [],
   "source": [
    "urllib3.disable_warnings(urllib3.exceptions.InsecureRequestWarning)"
   ]
  },
  {
   "attachments": {},
   "cell_type": "markdown",
   "metadata": {},
   "source": [
    "## Strava API Request"
   ]
  },
  {
   "cell_type": "code",
   "execution_count": 4,
   "metadata": {},
   "outputs": [
    {
     "name": "stdout",
     "output_type": "stream",
     "text": [
      "Requesting Strava token... \n",
      "\n",
      "all activities is NOT populated\n",
      "all activities is populated\n",
      "all activities is populated\n",
      "all activities is populated\n",
      "breaking out of Strava while loop because the response is zero, indicating no more activities.\n",
      "Total Activities:  52\n"
     ]
    }
   ],
   "source": [
    "auth_url = 'https://www.strava.com/oauth/token'\n",
    "activities_url = 'https://www.strava.com/api/v3/athlete/activities'\n",
    "\n",
    "print('Requesting Strava token... \\n')\n",
    "res = requests.post(auth_url, data=secrets.strava_payload, verify=False)\n",
    "strava_access_token = res.json()['access_token']\n",
    "\n",
    "header = {'Authorization': 'Bearer ' + strava_access_token}\n",
    "\n",
    "strava_requests_page_num = 1\n",
    "all_activities = []\n",
    "\n",
    "while True:\n",
    "    strava_param = {'per_page' : 15, 'page' : strava_requests_page_num}\n",
    "    strava_dataset = requests.get(activities_url, headers=header, params=strava_param).json()\n",
    "\n",
    "    if len(strava_dataset) == 0:\n",
    "        print('breaking out of Strava while loop because the response is zero, indicating no more activities.')\n",
    "        break\n",
    "\n",
    "    if all_activities:\n",
    "        print('all activities is populated')\n",
    "        all_activities.extend(strava_dataset)\n",
    "\n",
    "    else:\n",
    "        print('all activities is NOT populated')\n",
    "        all_activities = strava_dataset\n",
    "\n",
    "    strava_requests_page_num += 1\n",
    "\n",
    "print('Total Activities: ', len(all_activities))"
   ]
  },
  {
   "attachments": {},
   "cell_type": "markdown",
   "metadata": {},
   "source": [
    "## Creating pandas dataframe for running data"
   ]
  },
  {
   "cell_type": "code",
   "execution_count": 5,
   "metadata": {},
   "outputs": [],
   "source": [
    "run_data = pd.DataFrame(data=all_activities)"
   ]
  },
  {
   "cell_type": "markdown",
   "metadata": {},
   "source": [
    "# Many Columns are not filled with information because there is no use of a watch or heart monitor.\n",
    "- data can be cleaned"
   ]
  },
  {
   "cell_type": "code",
   "execution_count": 6,
   "metadata": {},
   "outputs": [
    {
     "data": {
      "text/plain": [
       "Index(['resource_state', 'athlete', 'name', 'distance', 'moving_time',\n",
       "       'elapsed_time', 'total_elevation_gain', 'type', 'sport_type',\n",
       "       'workout_type', 'id', 'start_date', 'start_date_local', 'timezone',\n",
       "       'utc_offset', 'location_city', 'location_state', 'location_country',\n",
       "       'achievement_count', 'kudos_count', 'comment_count', 'athlete_count',\n",
       "       'photo_count', 'map', 'trainer', 'commute', 'manual', 'private',\n",
       "       'visibility', 'flagged', 'gear_id', 'start_latlng', 'end_latlng',\n",
       "       'average_speed', 'max_speed', 'has_heartrate', 'heartrate_opt_out',\n",
       "       'display_hide_heartrate_option', 'elev_high', 'elev_low', 'upload_id',\n",
       "       'upload_id_str', 'external_id', 'from_accepted_tag', 'pr_count',\n",
       "       'total_photo_count', 'has_kudoed', 'suffer_score', 'average_watts',\n",
       "       'kilojoules', 'device_watts'],\n",
       "      dtype='object')"
      ]
     },
     "execution_count": 6,
     "metadata": {},
     "output_type": "execute_result"
    }
   ],
   "source": [
    "run_data.columns"
   ]
  },
  {
   "cell_type": "code",
   "execution_count": 7,
   "metadata": {},
   "outputs": [
    {
     "data": {
      "text/html": [
       "<div>\n",
       "<style scoped>\n",
       "    .dataframe tbody tr th:only-of-type {\n",
       "        vertical-align: middle;\n",
       "    }\n",
       "\n",
       "    .dataframe tbody tr th {\n",
       "        vertical-align: top;\n",
       "    }\n",
       "\n",
       "    .dataframe thead th {\n",
       "        text-align: right;\n",
       "    }\n",
       "</style>\n",
       "<table border=\"1\" class=\"dataframe\">\n",
       "  <thead>\n",
       "    <tr style=\"text-align: right;\">\n",
       "      <th></th>\n",
       "      <th>resource_state</th>\n",
       "      <th>athlete</th>\n",
       "      <th>name</th>\n",
       "      <th>distance</th>\n",
       "      <th>moving_time</th>\n",
       "      <th>elapsed_time</th>\n",
       "      <th>total_elevation_gain</th>\n",
       "      <th>type</th>\n",
       "      <th>sport_type</th>\n",
       "      <th>workout_type</th>\n",
       "      <th>...</th>\n",
       "      <th>upload_id_str</th>\n",
       "      <th>external_id</th>\n",
       "      <th>from_accepted_tag</th>\n",
       "      <th>pr_count</th>\n",
       "      <th>total_photo_count</th>\n",
       "      <th>has_kudoed</th>\n",
       "      <th>suffer_score</th>\n",
       "      <th>average_watts</th>\n",
       "      <th>kilojoules</th>\n",
       "      <th>device_watts</th>\n",
       "    </tr>\n",
       "  </thead>\n",
       "  <tbody>\n",
       "    <tr>\n",
       "      <th>0</th>\n",
       "      <td>2</td>\n",
       "      <td>{'id': 8586088, 'resource_state': 1}</td>\n",
       "      <td>PMRP : Lode Loop and Drive By Loop</td>\n",
       "      <td>5532.4</td>\n",
       "      <td>1884</td>\n",
       "      <td>1967</td>\n",
       "      <td>124.0</td>\n",
       "      <td>Run</td>\n",
       "      <td>Run</td>\n",
       "      <td>0.0</td>\n",
       "      <td>...</td>\n",
       "      <td>10143932040</td>\n",
       "      <td>7D43355C-FECB-473B-8263-E7C4BDB870DE-activity.fit</td>\n",
       "      <td>False</td>\n",
       "      <td>0</td>\n",
       "      <td>0</td>\n",
       "      <td>False</td>\n",
       "      <td>NaN</td>\n",
       "      <td>NaN</td>\n",
       "      <td>NaN</td>\n",
       "      <td>NaN</td>\n",
       "    </tr>\n",
       "    <tr>\n",
       "      <th>1</th>\n",
       "      <td>2</td>\n",
       "      <td>{'id': 8586088, 'resource_state': 1}</td>\n",
       "      <td>PMRP : Lode Loop and Sore Heel loop</td>\n",
       "      <td>7940.5</td>\n",
       "      <td>2861</td>\n",
       "      <td>2886</td>\n",
       "      <td>153.7</td>\n",
       "      <td>Run</td>\n",
       "      <td>Run</td>\n",
       "      <td>0.0</td>\n",
       "      <td>...</td>\n",
       "      <td>10131336663</td>\n",
       "      <td>4256B6D8-14F3-4F18-8DF3-440342D551CA-activity.fit</td>\n",
       "      <td>False</td>\n",
       "      <td>0</td>\n",
       "      <td>0</td>\n",
       "      <td>False</td>\n",
       "      <td>NaN</td>\n",
       "      <td>NaN</td>\n",
       "      <td>NaN</td>\n",
       "      <td>NaN</td>\n",
       "    </tr>\n",
       "    <tr>\n",
       "      <th>2</th>\n",
       "      <td>2</td>\n",
       "      <td>{'id': 8586088, 'resource_state': 1}</td>\n",
       "      <td>PMRP : Sore Heel Loop</td>\n",
       "      <td>7090.5</td>\n",
       "      <td>2341</td>\n",
       "      <td>2365</td>\n",
       "      <td>210.0</td>\n",
       "      <td>Run</td>\n",
       "      <td>Run</td>\n",
       "      <td>0.0</td>\n",
       "      <td>...</td>\n",
       "      <td>10124522361</td>\n",
       "      <td>0B1C68DC-4E71-4EBB-8217-F688A9582DCD-activity.fit</td>\n",
       "      <td>False</td>\n",
       "      <td>0</td>\n",
       "      <td>0</td>\n",
       "      <td>False</td>\n",
       "      <td>NaN</td>\n",
       "      <td>NaN</td>\n",
       "      <td>NaN</td>\n",
       "      <td>NaN</td>\n",
       "    </tr>\n",
       "    <tr>\n",
       "      <th>3</th>\n",
       "      <td>2</td>\n",
       "      <td>{'id': 8586088, 'resource_state': 1}</td>\n",
       "      <td>Ten Sleep : French Cattle Ranch Approach</td>\n",
       "      <td>1594.6</td>\n",
       "      <td>1483</td>\n",
       "      <td>1483</td>\n",
       "      <td>186.4</td>\n",
       "      <td>Hike</td>\n",
       "      <td>Hike</td>\n",
       "      <td>NaN</td>\n",
       "      <td>...</td>\n",
       "      <td>10023599286</td>\n",
       "      <td>70EA4DF3-F218-4DB7-B818-E242D7EC3F45-activity.fit</td>\n",
       "      <td>False</td>\n",
       "      <td>0</td>\n",
       "      <td>0</td>\n",
       "      <td>False</td>\n",
       "      <td>NaN</td>\n",
       "      <td>NaN</td>\n",
       "      <td>NaN</td>\n",
       "      <td>NaN</td>\n",
       "    </tr>\n",
       "    <tr>\n",
       "      <th>4</th>\n",
       "      <td>2</td>\n",
       "      <td>{'id': 8586088, 'resource_state': 1}</td>\n",
       "      <td>Ten Sleep : Approach to Downtown</td>\n",
       "      <td>471.3</td>\n",
       "      <td>625</td>\n",
       "      <td>656</td>\n",
       "      <td>90.8</td>\n",
       "      <td>Hike</td>\n",
       "      <td>Hike</td>\n",
       "      <td>NaN</td>\n",
       "      <td>...</td>\n",
       "      <td>10004892705</td>\n",
       "      <td>7A3018DD-C2AB-447C-AF8E-92D86CE6B16E-activity.fit</td>\n",
       "      <td>False</td>\n",
       "      <td>0</td>\n",
       "      <td>0</td>\n",
       "      <td>False</td>\n",
       "      <td>NaN</td>\n",
       "      <td>NaN</td>\n",
       "      <td>NaN</td>\n",
       "      <td>NaN</td>\n",
       "    </tr>\n",
       "  </tbody>\n",
       "</table>\n",
       "<p>5 rows × 51 columns</p>\n",
       "</div>"
      ],
      "text/plain": [
       "   resource_state                               athlete  \\\n",
       "0               2  {'id': 8586088, 'resource_state': 1}   \n",
       "1               2  {'id': 8586088, 'resource_state': 1}   \n",
       "2               2  {'id': 8586088, 'resource_state': 1}   \n",
       "3               2  {'id': 8586088, 'resource_state': 1}   \n",
       "4               2  {'id': 8586088, 'resource_state': 1}   \n",
       "\n",
       "                                       name  distance  moving_time  \\\n",
       "0        PMRP : Lode Loop and Drive By Loop    5532.4         1884   \n",
       "1       PMRP : Lode Loop and Sore Heel loop    7940.5         2861   \n",
       "2                     PMRP : Sore Heel Loop    7090.5         2341   \n",
       "3  Ten Sleep : French Cattle Ranch Approach    1594.6         1483   \n",
       "4          Ten Sleep : Approach to Downtown     471.3          625   \n",
       "\n",
       "   elapsed_time  total_elevation_gain  type sport_type  workout_type  ...  \\\n",
       "0          1967                 124.0   Run        Run           0.0  ...   \n",
       "1          2886                 153.7   Run        Run           0.0  ...   \n",
       "2          2365                 210.0   Run        Run           0.0  ...   \n",
       "3          1483                 186.4  Hike       Hike           NaN  ...   \n",
       "4           656                  90.8  Hike       Hike           NaN  ...   \n",
       "\n",
       "   upload_id_str                                        external_id  \\\n",
       "0    10143932040  7D43355C-FECB-473B-8263-E7C4BDB870DE-activity.fit   \n",
       "1    10131336663  4256B6D8-14F3-4F18-8DF3-440342D551CA-activity.fit   \n",
       "2    10124522361  0B1C68DC-4E71-4EBB-8217-F688A9582DCD-activity.fit   \n",
       "3    10023599286  70EA4DF3-F218-4DB7-B818-E242D7EC3F45-activity.fit   \n",
       "4    10004892705  7A3018DD-C2AB-447C-AF8E-92D86CE6B16E-activity.fit   \n",
       "\n",
       "  from_accepted_tag pr_count  total_photo_count has_kudoed suffer_score  \\\n",
       "0             False        0                  0      False          NaN   \n",
       "1             False        0                  0      False          NaN   \n",
       "2             False        0                  0      False          NaN   \n",
       "3             False        0                  0      False          NaN   \n",
       "4             False        0                  0      False          NaN   \n",
       "\n",
       "  average_watts  kilojoules  device_watts  \n",
       "0           NaN         NaN           NaN  \n",
       "1           NaN         NaN           NaN  \n",
       "2           NaN         NaN           NaN  \n",
       "3           NaN         NaN           NaN  \n",
       "4           NaN         NaN           NaN  \n",
       "\n",
       "[5 rows x 51 columns]"
      ]
     },
     "execution_count": 7,
     "metadata": {},
     "output_type": "execute_result"
    }
   ],
   "source": [
    "run_data.head()"
   ]
  },
  {
   "cell_type": "code",
   "execution_count": 8,
   "metadata": {},
   "outputs": [],
   "source": [
    "columns_to_drop = ['athlete',\n",
    "                   'resource_state', \n",
    "                   'sport_type', \n",
    "                   'workout_type',\n",
    "                   'location_city',\n",
    "                   'location_state',\n",
    "                   'location_country', \n",
    "                   'kudos_count', \n",
    "                   'comment_count', \n",
    "                   'athlete_count', \n",
    "                   'photo_count', \n",
    "                   'trainer', \n",
    "                   'commute', \n",
    "                   'manual', \n",
    "                   'private',\n",
    "                   'visibility', \n",
    "                   'flagged', \n",
    "                   'gear_id', \n",
    "                   'has_heartrate', \n",
    "                   'heartrate_opt_out', \n",
    "                   'display_hide_heartrate_option', \n",
    "                   'from_accepted_tag', \n",
    "                   'total_photo_count', \n",
    "                   'has_kudoed', \n",
    "                   'average_watts', \n",
    "                   'kilojoules',\n",
    "                   'achievement_count',\n",
    "                   'device_watts',\n",
    "                   'upload_id_str',\n",
    "                   'upload_id',\n",
    "                   'external_id',\n",
    "                   'id', \n",
    "                   'suffer_score']\n",
    "\n",
    "run_data.drop(columns=columns_to_drop, inplace=True)"
   ]
  },
  {
   "cell_type": "code",
   "execution_count": 9,
   "metadata": {},
   "outputs": [
    {
     "data": {
      "text/plain": [
       "Index(['name', 'distance', 'moving_time', 'elapsed_time',\n",
       "       'total_elevation_gain', 'type', 'start_date', 'start_date_local',\n",
       "       'timezone', 'utc_offset', 'map', 'start_latlng', 'end_latlng',\n",
       "       'average_speed', 'max_speed', 'elev_high', 'elev_low', 'pr_count'],\n",
       "      dtype='object')"
      ]
     },
     "execution_count": 9,
     "metadata": {},
     "output_type": "execute_result"
    }
   ],
   "source": [
    "run_data.columns"
   ]
  },
  {
   "cell_type": "markdown",
   "metadata": {},
   "source": [
    "# We only want the activity of running"
   ]
  },
  {
   "cell_type": "code",
   "execution_count": 10,
   "metadata": {},
   "outputs": [],
   "source": [
    "run_data = run_data.loc[run_data['type'] == 'Run']"
   ]
  },
  {
   "attachments": {},
   "cell_type": "markdown",
   "metadata": {},
   "source": [
    "## Conversions for Metrics"
   ]
  },
  {
   "cell_type": "code",
   "execution_count": 11,
   "metadata": {},
   "outputs": [],
   "source": [
    "run_data['distance_miles'] = round(run_data['distance'] * 0.00062137119, 2)\n",
    "run_data['moving_time_minutes'] = round(run_data['moving_time'] / 60, 2)\n",
    "run_data['moving_time_hours'] = round(run_data['moving_time'] / 3600, 2)"
   ]
  },
  {
   "cell_type": "code",
   "execution_count": 12,
   "metadata": {},
   "outputs": [
    {
     "name": "stdout",
     "output_type": "stream",
     "text": [
      "Average Distance (miles): 3.98\n",
      "Average Time Ran (minutes): 40.58\n",
      "Longest Run: 9.62 miles\n",
      "Longest Duration: 117.57 minutes. Converted to hours: 1.96\n",
      "Total Distance Covered to the date (miles): 143.26\n"
     ]
    }
   ],
   "source": [
    "average_distance_miles = round(run_data['distance_miles'].mean(), 2)\n",
    "print(\"Average Distance (miles):\", average_distance_miles)\n",
    "\n",
    "average_time_minutes = round(run_data['moving_time_minutes'].mean(), 2)\n",
    "print(\"Average Time Ran (minutes):\", average_time_minutes)\n",
    "\n",
    "max_distance_ran = round(run_data['distance_miles'].max(), 2)\n",
    "print(\"Longest Run:\", max_distance_ran, \"miles\")\n",
    "\n",
    "max_duration_mintues = round(run_data['moving_time_minutes'].max(), 2)\n",
    "max_duration_hours = round(run_data['moving_time_hours'].max(), 2)\n",
    "print(\"Longest Duration:\", max_duration_mintues,\"minutes. Converted to hours:\", max_duration_hours)\n",
    "\n",
    "total_distance_miles = round(run_data['distance'].sum() * 0.00062137119, 2)\n",
    "print(\"Total Distance Covered to the date (miles):\", total_distance_miles)"
   ]
  },
  {
   "cell_type": "code",
   "execution_count": 13,
   "metadata": {},
   "outputs": [
    {
     "data": {
      "text/plain": [
       "0                PMRP : Lode Loop and Drive By Loop\n",
       "1               PMRP : Lode Loop and Sore Heel loop\n",
       "2                             PMRP : Sore Heel Loop\n",
       "5                           Ten Sleep : Morning Run\n",
       "6                           Ten Sleep : Morning Run\n",
       "7               RRG : Grays Arch Loop w/ Rush Trail\n",
       "8           PMRP : Sore Heel Loop and Drive By Loop\n",
       "9                    PMRP : Lode Loop and Lode Hill\n",
       "10            PMRP : Lode Loop and Flat Holler Loop\n",
       "12               PMRP : Drive By Loop and Lode Loop\n",
       "14                            PMRP : Sore Heel Loop\n",
       "15                            RRG : Courthouse Loop\n",
       "16                       LOUISVILLE : Cherokee Park\n",
       "19                            RRG : Courthouse Loop\n",
       "20                            PMRP : Sore Heel Loop\n",
       "22                            PMRP : Sore Heel Loop\n",
       "23                            PMRP : Sore Heel Loop\n",
       "24                            PMRP : Sore Heel Loop\n",
       "25                        RRG : Natural Bridge Loop\n",
       "26                            PMRP : Sore Heel Loop\n",
       "27                    PMRP : Sore Heel Loop (short)\n",
       "28                     PMRP : Sore Heel Loop (long)\n",
       "29                    PMRP : Sore Heel Loop (short)\n",
       "30                            PMRP : Sore Heel Loop\n",
       "31                 RRG : Whites Branch Out and Back\n",
       "33                RRG : Hanson’s Point Out and Back\n",
       "34                    PMRP : Sore Heel Loop (short)\n",
       "35                                 PMRP : Lode Loop\n",
       "38                 RRG : Charmane Arch Out and Back\n",
       "40                RRG : White’s Branch Out and Back\n",
       "41                            PMRP : Sore Heel Loop\n",
       "42                    PMRP : Sore Heel Loop (short)\n",
       "43    PMRP : Chocolate Factory Loop and Unlode Loop\n",
       "47                  RRG : Rock Bridge Road and Loop\n",
       "48              RRG : Chimney Top Road Out and Back\n",
       "49                  CHATTANOOGA : Neighborhood Loop\n",
       "Name: name, dtype: object"
      ]
     },
     "execution_count": 13,
     "metadata": {},
     "output_type": "execute_result"
    }
   ],
   "source": [
    "run_data['name']"
   ]
  },
  {
   "cell_type": "markdown",
   "metadata": {},
   "source": [
    "# Going further into the data to only collect runs from RRGCC land"
   ]
  },
  {
   "cell_type": "code",
   "execution_count": 14,
   "metadata": {},
   "outputs": [],
   "source": [
    "pmrp_run_data = run_data[run_data['name'].str.contains('PMRP', case=False, na=False)]\n",
    "rrg_run_data = run_data[run_data['name'].str.contains('RRG', case=False, na=False)]\n",
    "sore_heel_data = run_data[run_data['name'].str.contains('Sore Heel', case=False, na=False)]\n",
    "lode_loop_data = run_data[run_data['name'].str.contains('Lode Loop', case=False, na=False)]\n",
    "drive_by_loop_data = run_data[run_data['name'].str.contains('Drive By Loop', case=False,na=False)]"
   ]
  },
  {
   "cell_type": "code",
   "execution_count": 15,
   "metadata": {},
   "outputs": [],
   "source": [
    "all_csv_path = 'csv/run/all_run_data.csv'\n",
    "pmrp_csv_path = 'csv/run/pmrp_run_data.csv'\n",
    "rrg_csv_path = 'csv/run/rrg_run_data.csv'\n",
    "sore_heel_csv_path = 'csv/run/sore_heel_data.csv'\n",
    "lode_loop_csv_path = 'csv/run/lode_loop_data.csv'\n",
    "drive_by_csv_path = 'csv/run/drive_by_data.csv'\n",
    "\n",
    "run_data.to_csv(all_csv_path, index=False)\n",
    "pmrp_run_data.to_csv(pmrp_csv_path, index=False)\n",
    "rrg_run_data.to_csv(rrg_csv_path, index=False)\n",
    "sore_heel_data.to_csv(sore_heel_csv_path, index=False)\n",
    "lode_loop_data.to_csv(lode_loop_csv_path, index=False)\n",
    "drive_by_loop_data.to_csv(drive_by_csv_path, index=False)"
   ]
  }
 ],
 "metadata": {
  "kernelspec": {
   "display_name": "Python 3",
   "language": "python",
   "name": "python3"
  },
  "language_info": {
   "codemirror_mode": {
    "name": "ipython",
    "version": 3
   },
   "file_extension": ".py",
   "mimetype": "text/x-python",
   "name": "python",
   "nbconvert_exporter": "python",
   "pygments_lexer": "ipython3",
   "version": "3.9.13"
  },
  "orig_nbformat": 4
 },
 "nbformat": 4,
 "nbformat_minor": 2
}
