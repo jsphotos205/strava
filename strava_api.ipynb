{
 "cells": [
  {
   "cell_type": "code",
   "execution_count": 273,
   "metadata": {},
   "outputs": [],
   "source": [
    "import requests\n",
    "import urllib3\n",
    "import secrets\n",
    "import pandas as pd\n",
    "import polyline\n",
    "import folium\n",
    "from ast import literal_eval"
   ]
  },
  {
   "cell_type": "code",
   "execution_count": 274,
   "metadata": {},
   "outputs": [],
   "source": [
    "urllib3.disable_warnings(urllib3.exceptions.InsecureRequestWarning)"
   ]
  },
  {
   "attachments": {},
   "cell_type": "markdown",
   "metadata": {},
   "source": [
    "## Strava API Request"
   ]
  },
  {
   "cell_type": "code",
   "execution_count": 275,
   "metadata": {},
   "outputs": [
    {
     "name": "stdout",
     "output_type": "stream",
     "text": [
      "Requesting Strava token... \n",
      "\n",
      "all activities is NOT populated\n",
      "all activities is populated\n",
      "all activities is populated\n",
      "all activities is populated\n",
      "breaking out of Strava while loop because the response is zero, indicating no more activities.\n",
      "Total Activities:  53\n"
     ]
    }
   ],
   "source": [
    "auth_url = 'https://www.strava.com/oauth/token'\n",
    "activities_url = 'https://www.strava.com/api/v3/athlete/activities'\n",
    "\n",
    "print('Requesting Strava token... \\n')\n",
    "res = requests.post(auth_url, data=secrets.strava_payload, verify=False)\n",
    "strava_access_token = res.json()['access_token']\n",
    "\n",
    "header = {'Authorization': 'Bearer ' + strava_access_token}\n",
    "\n",
    "strava_requests_page_num = 1\n",
    "all_activities = []\n",
    "\n",
    "while True:\n",
    "    strava_param = {'per_page' : 15, 'page' : strava_requests_page_num}\n",
    "    strava_dataset = requests.get(activities_url, headers=header, params=strava_param).json()\n",
    "\n",
    "    if len(strava_dataset) == 0:\n",
    "        print('breaking out of Strava while loop because the response is zero, indicating no more activities.')\n",
    "        break\n",
    "\n",
    "    if all_activities:\n",
    "        print('all activities is populated')\n",
    "        all_activities.extend(strava_dataset)\n",
    "\n",
    "    else:\n",
    "        print('all activities is NOT populated')\n",
    "        all_activities = strava_dataset\n",
    "\n",
    "    strava_requests_page_num += 1\n",
    "\n",
    "print('Total Activities: ', len(all_activities))"
   ]
  },
  {
   "attachments": {},
   "cell_type": "markdown",
   "metadata": {},
   "source": [
    "## Creating pandas dataframe for all activites from Strava api\n",
    "- Hiking\n",
    "- Walking\n",
    "- Cycling\n",
    "- Running\n",
    "- etc."
   ]
  },
  {
   "cell_type": "code",
   "execution_count": 276,
   "metadata": {},
   "outputs": [],
   "source": [
    "all_strava_activites = pd.DataFrame(data=all_activities)"
   ]
  },
  {
   "cell_type": "markdown",
   "metadata": {},
   "source": [
    "# Taking a look at the data\n",
    "- where can the data can be cleaned?"
   ]
  },
  {
   "cell_type": "code",
   "execution_count": 277,
   "metadata": {},
   "outputs": [
    {
     "data": {
      "text/html": [
       "<div>\n",
       "<style scoped>\n",
       "    .dataframe tbody tr th:only-of-type {\n",
       "        vertical-align: middle;\n",
       "    }\n",
       "\n",
       "    .dataframe tbody tr th {\n",
       "        vertical-align: top;\n",
       "    }\n",
       "\n",
       "    .dataframe thead th {\n",
       "        text-align: right;\n",
       "    }\n",
       "</style>\n",
       "<table border=\"1\" class=\"dataframe\">\n",
       "  <thead>\n",
       "    <tr style=\"text-align: right;\">\n",
       "      <th></th>\n",
       "      <th>resource_state</th>\n",
       "      <th>athlete</th>\n",
       "      <th>name</th>\n",
       "      <th>distance</th>\n",
       "      <th>moving_time</th>\n",
       "      <th>elapsed_time</th>\n",
       "      <th>total_elevation_gain</th>\n",
       "      <th>type</th>\n",
       "      <th>sport_type</th>\n",
       "      <th>workout_type</th>\n",
       "      <th>...</th>\n",
       "      <th>upload_id_str</th>\n",
       "      <th>external_id</th>\n",
       "      <th>from_accepted_tag</th>\n",
       "      <th>pr_count</th>\n",
       "      <th>total_photo_count</th>\n",
       "      <th>has_kudoed</th>\n",
       "      <th>suffer_score</th>\n",
       "      <th>average_watts</th>\n",
       "      <th>kilojoules</th>\n",
       "      <th>device_watts</th>\n",
       "    </tr>\n",
       "  </thead>\n",
       "  <tbody>\n",
       "    <tr>\n",
       "      <th>0</th>\n",
       "      <td>2</td>\n",
       "      <td>{'id': 8586088, 'resource_state': 1}</td>\n",
       "      <td>RRG : Rush Trail to Gray’s Arch Loop</td>\n",
       "      <td>6312.2</td>\n",
       "      <td>2374</td>\n",
       "      <td>2448</td>\n",
       "      <td>173.8</td>\n",
       "      <td>Run</td>\n",
       "      <td>Run</td>\n",
       "      <td>0.0</td>\n",
       "      <td>...</td>\n",
       "      <td>10150965476</td>\n",
       "      <td>3A315073-851C-4478-8D23-F4D440BAA704-activity.fit</td>\n",
       "      <td>False</td>\n",
       "      <td>0</td>\n",
       "      <td>0</td>\n",
       "      <td>False</td>\n",
       "      <td>NaN</td>\n",
       "      <td>NaN</td>\n",
       "      <td>NaN</td>\n",
       "      <td>NaN</td>\n",
       "    </tr>\n",
       "    <tr>\n",
       "      <th>1</th>\n",
       "      <td>2</td>\n",
       "      <td>{'id': 8586088, 'resource_state': 1}</td>\n",
       "      <td>PMRP : Lode Loop and Drive By Loop</td>\n",
       "      <td>5532.4</td>\n",
       "      <td>1884</td>\n",
       "      <td>1967</td>\n",
       "      <td>124.0</td>\n",
       "      <td>Run</td>\n",
       "      <td>Run</td>\n",
       "      <td>0.0</td>\n",
       "      <td>...</td>\n",
       "      <td>10143932040</td>\n",
       "      <td>7D43355C-FECB-473B-8263-E7C4BDB870DE-activity.fit</td>\n",
       "      <td>False</td>\n",
       "      <td>0</td>\n",
       "      <td>0</td>\n",
       "      <td>False</td>\n",
       "      <td>NaN</td>\n",
       "      <td>NaN</td>\n",
       "      <td>NaN</td>\n",
       "      <td>NaN</td>\n",
       "    </tr>\n",
       "    <tr>\n",
       "      <th>2</th>\n",
       "      <td>2</td>\n",
       "      <td>{'id': 8586088, 'resource_state': 1}</td>\n",
       "      <td>PMRP : Lode Loop and Sore Heel loop</td>\n",
       "      <td>7940.5</td>\n",
       "      <td>2861</td>\n",
       "      <td>2886</td>\n",
       "      <td>153.7</td>\n",
       "      <td>Run</td>\n",
       "      <td>Run</td>\n",
       "      <td>0.0</td>\n",
       "      <td>...</td>\n",
       "      <td>10131336663</td>\n",
       "      <td>4256B6D8-14F3-4F18-8DF3-440342D551CA-activity.fit</td>\n",
       "      <td>False</td>\n",
       "      <td>0</td>\n",
       "      <td>0</td>\n",
       "      <td>False</td>\n",
       "      <td>NaN</td>\n",
       "      <td>NaN</td>\n",
       "      <td>NaN</td>\n",
       "      <td>NaN</td>\n",
       "    </tr>\n",
       "    <tr>\n",
       "      <th>3</th>\n",
       "      <td>2</td>\n",
       "      <td>{'id': 8586088, 'resource_state': 1}</td>\n",
       "      <td>PMRP : Sore Heel Loop</td>\n",
       "      <td>7090.5</td>\n",
       "      <td>2341</td>\n",
       "      <td>2365</td>\n",
       "      <td>210.0</td>\n",
       "      <td>Run</td>\n",
       "      <td>Run</td>\n",
       "      <td>0.0</td>\n",
       "      <td>...</td>\n",
       "      <td>10124522361</td>\n",
       "      <td>0B1C68DC-4E71-4EBB-8217-F688A9582DCD-activity.fit</td>\n",
       "      <td>False</td>\n",
       "      <td>0</td>\n",
       "      <td>0</td>\n",
       "      <td>False</td>\n",
       "      <td>NaN</td>\n",
       "      <td>NaN</td>\n",
       "      <td>NaN</td>\n",
       "      <td>NaN</td>\n",
       "    </tr>\n",
       "    <tr>\n",
       "      <th>4</th>\n",
       "      <td>2</td>\n",
       "      <td>{'id': 8586088, 'resource_state': 1}</td>\n",
       "      <td>Ten Sleep : French Cattle Ranch Approach</td>\n",
       "      <td>1594.6</td>\n",
       "      <td>1483</td>\n",
       "      <td>1483</td>\n",
       "      <td>186.4</td>\n",
       "      <td>Hike</td>\n",
       "      <td>Hike</td>\n",
       "      <td>NaN</td>\n",
       "      <td>...</td>\n",
       "      <td>10023599286</td>\n",
       "      <td>70EA4DF3-F218-4DB7-B818-E242D7EC3F45-activity.fit</td>\n",
       "      <td>False</td>\n",
       "      <td>0</td>\n",
       "      <td>0</td>\n",
       "      <td>False</td>\n",
       "      <td>NaN</td>\n",
       "      <td>NaN</td>\n",
       "      <td>NaN</td>\n",
       "      <td>NaN</td>\n",
       "    </tr>\n",
       "  </tbody>\n",
       "</table>\n",
       "<p>5 rows × 51 columns</p>\n",
       "</div>"
      ],
      "text/plain": [
       "   resource_state                               athlete  \\\n",
       "0               2  {'id': 8586088, 'resource_state': 1}   \n",
       "1               2  {'id': 8586088, 'resource_state': 1}   \n",
       "2               2  {'id': 8586088, 'resource_state': 1}   \n",
       "3               2  {'id': 8586088, 'resource_state': 1}   \n",
       "4               2  {'id': 8586088, 'resource_state': 1}   \n",
       "\n",
       "                                       name  distance  moving_time  \\\n",
       "0      RRG : Rush Trail to Gray’s Arch Loop    6312.2         2374   \n",
       "1        PMRP : Lode Loop and Drive By Loop    5532.4         1884   \n",
       "2       PMRP : Lode Loop and Sore Heel loop    7940.5         2861   \n",
       "3                     PMRP : Sore Heel Loop    7090.5         2341   \n",
       "4  Ten Sleep : French Cattle Ranch Approach    1594.6         1483   \n",
       "\n",
       "   elapsed_time  total_elevation_gain  type sport_type  workout_type  ...  \\\n",
       "0          2448                 173.8   Run        Run           0.0  ...   \n",
       "1          1967                 124.0   Run        Run           0.0  ...   \n",
       "2          2886                 153.7   Run        Run           0.0  ...   \n",
       "3          2365                 210.0   Run        Run           0.0  ...   \n",
       "4          1483                 186.4  Hike       Hike           NaN  ...   \n",
       "\n",
       "   upload_id_str                                        external_id  \\\n",
       "0    10150965476  3A315073-851C-4478-8D23-F4D440BAA704-activity.fit   \n",
       "1    10143932040  7D43355C-FECB-473B-8263-E7C4BDB870DE-activity.fit   \n",
       "2    10131336663  4256B6D8-14F3-4F18-8DF3-440342D551CA-activity.fit   \n",
       "3    10124522361  0B1C68DC-4E71-4EBB-8217-F688A9582DCD-activity.fit   \n",
       "4    10023599286  70EA4DF3-F218-4DB7-B818-E242D7EC3F45-activity.fit   \n",
       "\n",
       "  from_accepted_tag pr_count  total_photo_count has_kudoed suffer_score  \\\n",
       "0             False        0                  0      False          NaN   \n",
       "1             False        0                  0      False          NaN   \n",
       "2             False        0                  0      False          NaN   \n",
       "3             False        0                  0      False          NaN   \n",
       "4             False        0                  0      False          NaN   \n",
       "\n",
       "  average_watts  kilojoules  device_watts  \n",
       "0           NaN         NaN           NaN  \n",
       "1           NaN         NaN           NaN  \n",
       "2           NaN         NaN           NaN  \n",
       "3           NaN         NaN           NaN  \n",
       "4           NaN         NaN           NaN  \n",
       "\n",
       "[5 rows x 51 columns]"
      ]
     },
     "execution_count": 277,
     "metadata": {},
     "output_type": "execute_result"
    }
   ],
   "source": [
    "all_strava_activites.head()"
   ]
  },
  {
   "cell_type": "markdown",
   "metadata": {},
   "source": [
    "Many Columns are not filled with information because there is no use of a watch or heart monitor."
   ]
  },
  {
   "cell_type": "code",
   "execution_count": 278,
   "metadata": {},
   "outputs": [
    {
     "data": {
      "text/plain": [
       "['resource_state',\n",
       " 'athlete',\n",
       " 'name',\n",
       " 'distance',\n",
       " 'moving_time',\n",
       " 'elapsed_time',\n",
       " 'total_elevation_gain',\n",
       " 'type',\n",
       " 'sport_type',\n",
       " 'workout_type',\n",
       " 'id',\n",
       " 'start_date',\n",
       " 'start_date_local',\n",
       " 'timezone',\n",
       " 'utc_offset',\n",
       " 'location_city',\n",
       " 'location_state',\n",
       " 'location_country',\n",
       " 'achievement_count',\n",
       " 'kudos_count',\n",
       " 'comment_count',\n",
       " 'athlete_count',\n",
       " 'photo_count',\n",
       " 'map',\n",
       " 'trainer',\n",
       " 'commute',\n",
       " 'manual',\n",
       " 'private',\n",
       " 'visibility',\n",
       " 'flagged',\n",
       " 'gear_id',\n",
       " 'start_latlng',\n",
       " 'end_latlng',\n",
       " 'average_speed',\n",
       " 'max_speed',\n",
       " 'has_heartrate',\n",
       " 'heartrate_opt_out',\n",
       " 'display_hide_heartrate_option',\n",
       " 'elev_high',\n",
       " 'elev_low',\n",
       " 'upload_id',\n",
       " 'upload_id_str',\n",
       " 'external_id',\n",
       " 'from_accepted_tag',\n",
       " 'pr_count',\n",
       " 'total_photo_count',\n",
       " 'has_kudoed',\n",
       " 'suffer_score',\n",
       " 'average_watts',\n",
       " 'kilojoules',\n",
       " 'device_watts']"
      ]
     },
     "execution_count": 278,
     "metadata": {},
     "output_type": "execute_result"
    }
   ],
   "source": [
    "all_strava_activites_columns = all_strava_activites.columns.to_list()\n",
    "all_strava_activites_columns"
   ]
  },
  {
   "cell_type": "code",
   "execution_count": 279,
   "metadata": {},
   "outputs": [],
   "source": [
    "columns_to_drop = ['athlete',\n",
    "                   'resource_state', \n",
    "                   'sport_type', \n",
    "                   'workout_type',\n",
    "                   'location_city',\n",
    "                   'location_state',\n",
    "                   'location_country', \n",
    "                   'kudos_count', \n",
    "                   'comment_count', \n",
    "                   'athlete_count', \n",
    "                   'photo_count', \n",
    "                   'trainer', \n",
    "                   'commute', \n",
    "                   'manual', \n",
    "                   'private',\n",
    "                   'visibility', \n",
    "                   'flagged', \n",
    "                   'gear_id', \n",
    "                   'has_heartrate', \n",
    "                   'heartrate_opt_out', \n",
    "                   'display_hide_heartrate_option', \n",
    "                   'from_accepted_tag', \n",
    "                   'total_photo_count', \n",
    "                   'has_kudoed', \n",
    "                   'average_watts', \n",
    "                   'kilojoules',\n",
    "                   'achievement_count',\n",
    "                   'device_watts',\n",
    "                   'upload_id_str',\n",
    "                   'upload_id',\n",
    "                   'external_id', \n",
    "                   'suffer_score']\n",
    "\n",
    "all_strava_activites.drop(columns=columns_to_drop, inplace=True)\n",
    "columns = all_strava_activites.columns.to_list()"
   ]
  },
  {
   "cell_type": "code",
   "execution_count": 280,
   "metadata": {},
   "outputs": [
    {
     "data": {
      "text/plain": [
       "['name',\n",
       " 'distance',\n",
       " 'moving_time',\n",
       " 'elapsed_time',\n",
       " 'total_elevation_gain',\n",
       " 'type',\n",
       " 'id',\n",
       " 'start_date',\n",
       " 'start_date_local',\n",
       " 'timezone',\n",
       " 'utc_offset',\n",
       " 'map',\n",
       " 'start_latlng',\n",
       " 'end_latlng',\n",
       " 'average_speed',\n",
       " 'max_speed',\n",
       " 'elev_high',\n",
       " 'elev_low',\n",
       " 'pr_count']"
      ]
     },
     "execution_count": 280,
     "metadata": {},
     "output_type": "execute_result"
    }
   ],
   "source": [
    "columns"
   ]
  },
  {
   "cell_type": "markdown",
   "metadata": {},
   "source": [
    "# We only want the activity of running"
   ]
  },
  {
   "cell_type": "code",
   "execution_count": 281,
   "metadata": {},
   "outputs": [],
   "source": [
    "run_data = all_strava_activites.loc[all_strava_activites['type'] == 'Run']\n",
    "\n",
    "run_data.reset_index(drop=True, inplace=True)"
   ]
  },
  {
   "attachments": {},
   "cell_type": "markdown",
   "metadata": {},
   "source": [
    "## Conversions for Metrics"
   ]
  },
  {
   "cell_type": "code",
   "execution_count": 282,
   "metadata": {},
   "outputs": [
    {
     "name": "stderr",
     "output_type": "stream",
     "text": [
      "/var/folders/02/lzvd5scj4zb274qzdzm7r7p80000gn/T/ipykernel_24983/1084732103.py:1: SettingWithCopyWarning: \n",
      "A value is trying to be set on a copy of a slice from a DataFrame.\n",
      "Try using .loc[row_indexer,col_indexer] = value instead\n",
      "\n",
      "See the caveats in the documentation: https://pandas.pydata.org/pandas-docs/stable/user_guide/indexing.html#returning-a-view-versus-a-copy\n",
      "  run_data['distance_miles'] = round(run_data['distance'] * 0.00062137119, 2)\n",
      "/var/folders/02/lzvd5scj4zb274qzdzm7r7p80000gn/T/ipykernel_24983/1084732103.py:2: SettingWithCopyWarning: \n",
      "A value is trying to be set on a copy of a slice from a DataFrame.\n",
      "Try using .loc[row_indexer,col_indexer] = value instead\n",
      "\n",
      "See the caveats in the documentation: https://pandas.pydata.org/pandas-docs/stable/user_guide/indexing.html#returning-a-view-versus-a-copy\n",
      "  run_data['moving_time_minutes'] = round(run_data['moving_time'] / 60, 2)\n",
      "/var/folders/02/lzvd5scj4zb274qzdzm7r7p80000gn/T/ipykernel_24983/1084732103.py:3: SettingWithCopyWarning: \n",
      "A value is trying to be set on a copy of a slice from a DataFrame.\n",
      "Try using .loc[row_indexer,col_indexer] = value instead\n",
      "\n",
      "See the caveats in the documentation: https://pandas.pydata.org/pandas-docs/stable/user_guide/indexing.html#returning-a-view-versus-a-copy\n",
      "  run_data['moving_time_hours'] = round(run_data['moving_time'] / 3600, 2)\n"
     ]
    }
   ],
   "source": [
    "run_data['distance_miles'] = round(run_data['distance'] * 0.00062137119, 2)\n",
    "run_data['moving_time_minutes'] = round(run_data['moving_time'] / 60, 2)\n",
    "run_data['moving_time_hours'] = round(run_data['moving_time'] / 3600, 2)"
   ]
  },
  {
   "cell_type": "code",
   "execution_count": 283,
   "metadata": {},
   "outputs": [
    {
     "name": "stdout",
     "output_type": "stream",
     "text": [
      "Average Distance (miles): 3.98\n",
      "Average Time Ran (minutes): 40.56\n",
      "Longest Run: 9.62 miles\n",
      "Longest Duration: 117.57 minutes. Converted to hours: 1.96\n",
      "Total Distance Covered to the date (miles): 147.18\n"
     ]
    }
   ],
   "source": [
    "average_distance_miles = round(run_data['distance_miles'].mean(), 2)\n",
    "print(\"Average Distance (miles):\", average_distance_miles)\n",
    "\n",
    "average_time_minutes = round(run_data['moving_time_minutes'].mean(), 2)\n",
    "print(\"Average Time Ran (minutes):\", average_time_minutes)\n",
    "\n",
    "max_distance_ran = round(run_data['distance_miles'].max(), 2)\n",
    "print(\"Longest Run:\", max_distance_ran, \"miles\")\n",
    "\n",
    "max_duration_mintues = round(run_data['moving_time_minutes'].max(), 2)\n",
    "max_duration_hours = round(run_data['moving_time_hours'].max(), 2)\n",
    "print(\"Longest Duration:\", max_duration_mintues,\"minutes. Converted to hours:\", max_duration_hours)\n",
    "\n",
    "total_distance_miles = round(run_data['distance'].sum() * 0.00062137119, 2)\n",
    "print(\"Total Distance Covered to the date (miles):\", total_distance_miles)"
   ]
  },
  {
   "cell_type": "markdown",
   "metadata": {},
   "source": [
    "# Retrieve and Decode Polyline for mapping"
   ]
  },
  {
   "cell_type": "code",
   "execution_count": 284,
   "metadata": {},
   "outputs": [
    {
     "name": "stderr",
     "output_type": "stream",
     "text": [
      "/var/folders/02/lzvd5scj4zb274qzdzm7r7p80000gn/T/ipykernel_24983/3788015003.py:4: SettingWithCopyWarning: \n",
      "A value is trying to be set on a copy of a slice from a DataFrame\n",
      "\n",
      "See the caveats in the documentation: https://pandas.pydata.org/pandas-docs/stable/user_guide/indexing.html#returning-a-view-versus-a-copy\n",
      "  run_data.drop(columns='map', inplace=True)\n"
     ]
    }
   ],
   "source": [
    "all_run_map_data = pd.DataFrame(run_data['map'].to_list())\n",
    "all_run_map_data['id'] = all_run_map_data['id'].str.slice(start=1)\n",
    "\n",
    "run_data.drop(columns='map', inplace=True)"
   ]
  },
  {
   "cell_type": "code",
   "execution_count": 285,
   "metadata": {},
   "outputs": [
    {
     "name": "stderr",
     "output_type": "stream",
     "text": [
      "/var/folders/02/lzvd5scj4zb274qzdzm7r7p80000gn/T/ipykernel_24983/3576215990.py:7: FutureWarning: The frame.append method is deprecated and will be removed from pandas in a future version. Use pandas.concat instead.\n",
      "  decoded_df_all = decoded_df_all.append({'id' : row['id'], 'decoded_polyline' : decoded_polyline}, ignore_index=True)\n",
      "/var/folders/02/lzvd5scj4zb274qzdzm7r7p80000gn/T/ipykernel_24983/3576215990.py:7: FutureWarning: The frame.append method is deprecated and will be removed from pandas in a future version. Use pandas.concat instead.\n",
      "  decoded_df_all = decoded_df_all.append({'id' : row['id'], 'decoded_polyline' : decoded_polyline}, ignore_index=True)\n",
      "/var/folders/02/lzvd5scj4zb274qzdzm7r7p80000gn/T/ipykernel_24983/3576215990.py:7: FutureWarning: The frame.append method is deprecated and will be removed from pandas in a future version. Use pandas.concat instead.\n",
      "  decoded_df_all = decoded_df_all.append({'id' : row['id'], 'decoded_polyline' : decoded_polyline}, ignore_index=True)\n",
      "/var/folders/02/lzvd5scj4zb274qzdzm7r7p80000gn/T/ipykernel_24983/3576215990.py:7: FutureWarning: The frame.append method is deprecated and will be removed from pandas in a future version. Use pandas.concat instead.\n",
      "  decoded_df_all = decoded_df_all.append({'id' : row['id'], 'decoded_polyline' : decoded_polyline}, ignore_index=True)\n",
      "/var/folders/02/lzvd5scj4zb274qzdzm7r7p80000gn/T/ipykernel_24983/3576215990.py:7: FutureWarning: The frame.append method is deprecated and will be removed from pandas in a future version. Use pandas.concat instead.\n",
      "  decoded_df_all = decoded_df_all.append({'id' : row['id'], 'decoded_polyline' : decoded_polyline}, ignore_index=True)\n",
      "/var/folders/02/lzvd5scj4zb274qzdzm7r7p80000gn/T/ipykernel_24983/3576215990.py:7: FutureWarning: The frame.append method is deprecated and will be removed from pandas in a future version. Use pandas.concat instead.\n",
      "  decoded_df_all = decoded_df_all.append({'id' : row['id'], 'decoded_polyline' : decoded_polyline}, ignore_index=True)\n",
      "/var/folders/02/lzvd5scj4zb274qzdzm7r7p80000gn/T/ipykernel_24983/3576215990.py:7: FutureWarning: The frame.append method is deprecated and will be removed from pandas in a future version. Use pandas.concat instead.\n",
      "  decoded_df_all = decoded_df_all.append({'id' : row['id'], 'decoded_polyline' : decoded_polyline}, ignore_index=True)\n",
      "/var/folders/02/lzvd5scj4zb274qzdzm7r7p80000gn/T/ipykernel_24983/3576215990.py:7: FutureWarning: The frame.append method is deprecated and will be removed from pandas in a future version. Use pandas.concat instead.\n",
      "  decoded_df_all = decoded_df_all.append({'id' : row['id'], 'decoded_polyline' : decoded_polyline}, ignore_index=True)\n",
      "/var/folders/02/lzvd5scj4zb274qzdzm7r7p80000gn/T/ipykernel_24983/3576215990.py:7: FutureWarning: The frame.append method is deprecated and will be removed from pandas in a future version. Use pandas.concat instead.\n",
      "  decoded_df_all = decoded_df_all.append({'id' : row['id'], 'decoded_polyline' : decoded_polyline}, ignore_index=True)\n",
      "/var/folders/02/lzvd5scj4zb274qzdzm7r7p80000gn/T/ipykernel_24983/3576215990.py:7: FutureWarning: The frame.append method is deprecated and will be removed from pandas in a future version. Use pandas.concat instead.\n",
      "  decoded_df_all = decoded_df_all.append({'id' : row['id'], 'decoded_polyline' : decoded_polyline}, ignore_index=True)\n",
      "/var/folders/02/lzvd5scj4zb274qzdzm7r7p80000gn/T/ipykernel_24983/3576215990.py:7: FutureWarning: The frame.append method is deprecated and will be removed from pandas in a future version. Use pandas.concat instead.\n",
      "  decoded_df_all = decoded_df_all.append({'id' : row['id'], 'decoded_polyline' : decoded_polyline}, ignore_index=True)\n",
      "/var/folders/02/lzvd5scj4zb274qzdzm7r7p80000gn/T/ipykernel_24983/3576215990.py:7: FutureWarning: The frame.append method is deprecated and will be removed from pandas in a future version. Use pandas.concat instead.\n",
      "  decoded_df_all = decoded_df_all.append({'id' : row['id'], 'decoded_polyline' : decoded_polyline}, ignore_index=True)\n",
      "/var/folders/02/lzvd5scj4zb274qzdzm7r7p80000gn/T/ipykernel_24983/3576215990.py:7: FutureWarning: The frame.append method is deprecated and will be removed from pandas in a future version. Use pandas.concat instead.\n",
      "  decoded_df_all = decoded_df_all.append({'id' : row['id'], 'decoded_polyline' : decoded_polyline}, ignore_index=True)\n",
      "/var/folders/02/lzvd5scj4zb274qzdzm7r7p80000gn/T/ipykernel_24983/3576215990.py:7: FutureWarning: The frame.append method is deprecated and will be removed from pandas in a future version. Use pandas.concat instead.\n",
      "  decoded_df_all = decoded_df_all.append({'id' : row['id'], 'decoded_polyline' : decoded_polyline}, ignore_index=True)\n",
      "/var/folders/02/lzvd5scj4zb274qzdzm7r7p80000gn/T/ipykernel_24983/3576215990.py:7: FutureWarning: The frame.append method is deprecated and will be removed from pandas in a future version. Use pandas.concat instead.\n",
      "  decoded_df_all = decoded_df_all.append({'id' : row['id'], 'decoded_polyline' : decoded_polyline}, ignore_index=True)\n",
      "/var/folders/02/lzvd5scj4zb274qzdzm7r7p80000gn/T/ipykernel_24983/3576215990.py:7: FutureWarning: The frame.append method is deprecated and will be removed from pandas in a future version. Use pandas.concat instead.\n",
      "  decoded_df_all = decoded_df_all.append({'id' : row['id'], 'decoded_polyline' : decoded_polyline}, ignore_index=True)\n",
      "/var/folders/02/lzvd5scj4zb274qzdzm7r7p80000gn/T/ipykernel_24983/3576215990.py:7: FutureWarning: The frame.append method is deprecated and will be removed from pandas in a future version. Use pandas.concat instead.\n",
      "  decoded_df_all = decoded_df_all.append({'id' : row['id'], 'decoded_polyline' : decoded_polyline}, ignore_index=True)\n",
      "/var/folders/02/lzvd5scj4zb274qzdzm7r7p80000gn/T/ipykernel_24983/3576215990.py:7: FutureWarning: The frame.append method is deprecated and will be removed from pandas in a future version. Use pandas.concat instead.\n",
      "  decoded_df_all = decoded_df_all.append({'id' : row['id'], 'decoded_polyline' : decoded_polyline}, ignore_index=True)\n",
      "/var/folders/02/lzvd5scj4zb274qzdzm7r7p80000gn/T/ipykernel_24983/3576215990.py:7: FutureWarning: The frame.append method is deprecated and will be removed from pandas in a future version. Use pandas.concat instead.\n",
      "  decoded_df_all = decoded_df_all.append({'id' : row['id'], 'decoded_polyline' : decoded_polyline}, ignore_index=True)\n",
      "/var/folders/02/lzvd5scj4zb274qzdzm7r7p80000gn/T/ipykernel_24983/3576215990.py:7: FutureWarning: The frame.append method is deprecated and will be removed from pandas in a future version. Use pandas.concat instead.\n",
      "  decoded_df_all = decoded_df_all.append({'id' : row['id'], 'decoded_polyline' : decoded_polyline}, ignore_index=True)\n",
      "/var/folders/02/lzvd5scj4zb274qzdzm7r7p80000gn/T/ipykernel_24983/3576215990.py:7: FutureWarning: The frame.append method is deprecated and will be removed from pandas in a future version. Use pandas.concat instead.\n",
      "  decoded_df_all = decoded_df_all.append({'id' : row['id'], 'decoded_polyline' : decoded_polyline}, ignore_index=True)\n",
      "/var/folders/02/lzvd5scj4zb274qzdzm7r7p80000gn/T/ipykernel_24983/3576215990.py:7: FutureWarning: The frame.append method is deprecated and will be removed from pandas in a future version. Use pandas.concat instead.\n",
      "  decoded_df_all = decoded_df_all.append({'id' : row['id'], 'decoded_polyline' : decoded_polyline}, ignore_index=True)\n",
      "/var/folders/02/lzvd5scj4zb274qzdzm7r7p80000gn/T/ipykernel_24983/3576215990.py:7: FutureWarning: The frame.append method is deprecated and will be removed from pandas in a future version. Use pandas.concat instead.\n",
      "  decoded_df_all = decoded_df_all.append({'id' : row['id'], 'decoded_polyline' : decoded_polyline}, ignore_index=True)\n",
      "/var/folders/02/lzvd5scj4zb274qzdzm7r7p80000gn/T/ipykernel_24983/3576215990.py:7: FutureWarning: The frame.append method is deprecated and will be removed from pandas in a future version. Use pandas.concat instead.\n",
      "  decoded_df_all = decoded_df_all.append({'id' : row['id'], 'decoded_polyline' : decoded_polyline}, ignore_index=True)\n",
      "/var/folders/02/lzvd5scj4zb274qzdzm7r7p80000gn/T/ipykernel_24983/3576215990.py:7: FutureWarning: The frame.append method is deprecated and will be removed from pandas in a future version. Use pandas.concat instead.\n",
      "  decoded_df_all = decoded_df_all.append({'id' : row['id'], 'decoded_polyline' : decoded_polyline}, ignore_index=True)\n",
      "/var/folders/02/lzvd5scj4zb274qzdzm7r7p80000gn/T/ipykernel_24983/3576215990.py:7: FutureWarning: The frame.append method is deprecated and will be removed from pandas in a future version. Use pandas.concat instead.\n",
      "  decoded_df_all = decoded_df_all.append({'id' : row['id'], 'decoded_polyline' : decoded_polyline}, ignore_index=True)\n",
      "/var/folders/02/lzvd5scj4zb274qzdzm7r7p80000gn/T/ipykernel_24983/3576215990.py:7: FutureWarning: The frame.append method is deprecated and will be removed from pandas in a future version. Use pandas.concat instead.\n",
      "  decoded_df_all = decoded_df_all.append({'id' : row['id'], 'decoded_polyline' : decoded_polyline}, ignore_index=True)\n",
      "/var/folders/02/lzvd5scj4zb274qzdzm7r7p80000gn/T/ipykernel_24983/3576215990.py:7: FutureWarning: The frame.append method is deprecated and will be removed from pandas in a future version. Use pandas.concat instead.\n",
      "  decoded_df_all = decoded_df_all.append({'id' : row['id'], 'decoded_polyline' : decoded_polyline}, ignore_index=True)\n",
      "/var/folders/02/lzvd5scj4zb274qzdzm7r7p80000gn/T/ipykernel_24983/3576215990.py:7: FutureWarning: The frame.append method is deprecated and will be removed from pandas in a future version. Use pandas.concat instead.\n",
      "  decoded_df_all = decoded_df_all.append({'id' : row['id'], 'decoded_polyline' : decoded_polyline}, ignore_index=True)\n",
      "/var/folders/02/lzvd5scj4zb274qzdzm7r7p80000gn/T/ipykernel_24983/3576215990.py:7: FutureWarning: The frame.append method is deprecated and will be removed from pandas in a future version. Use pandas.concat instead.\n",
      "  decoded_df_all = decoded_df_all.append({'id' : row['id'], 'decoded_polyline' : decoded_polyline}, ignore_index=True)\n",
      "/var/folders/02/lzvd5scj4zb274qzdzm7r7p80000gn/T/ipykernel_24983/3576215990.py:7: FutureWarning: The frame.append method is deprecated and will be removed from pandas in a future version. Use pandas.concat instead.\n",
      "  decoded_df_all = decoded_df_all.append({'id' : row['id'], 'decoded_polyline' : decoded_polyline}, ignore_index=True)\n",
      "/var/folders/02/lzvd5scj4zb274qzdzm7r7p80000gn/T/ipykernel_24983/3576215990.py:7: FutureWarning: The frame.append method is deprecated and will be removed from pandas in a future version. Use pandas.concat instead.\n",
      "  decoded_df_all = decoded_df_all.append({'id' : row['id'], 'decoded_polyline' : decoded_polyline}, ignore_index=True)\n",
      "/var/folders/02/lzvd5scj4zb274qzdzm7r7p80000gn/T/ipykernel_24983/3576215990.py:7: FutureWarning: The frame.append method is deprecated and will be removed from pandas in a future version. Use pandas.concat instead.\n",
      "  decoded_df_all = decoded_df_all.append({'id' : row['id'], 'decoded_polyline' : decoded_polyline}, ignore_index=True)\n",
      "/var/folders/02/lzvd5scj4zb274qzdzm7r7p80000gn/T/ipykernel_24983/3576215990.py:7: FutureWarning: The frame.append method is deprecated and will be removed from pandas in a future version. Use pandas.concat instead.\n",
      "  decoded_df_all = decoded_df_all.append({'id' : row['id'], 'decoded_polyline' : decoded_polyline}, ignore_index=True)\n",
      "/var/folders/02/lzvd5scj4zb274qzdzm7r7p80000gn/T/ipykernel_24983/3576215990.py:7: FutureWarning: The frame.append method is deprecated and will be removed from pandas in a future version. Use pandas.concat instead.\n",
      "  decoded_df_all = decoded_df_all.append({'id' : row['id'], 'decoded_polyline' : decoded_polyline}, ignore_index=True)\n",
      "/var/folders/02/lzvd5scj4zb274qzdzm7r7p80000gn/T/ipykernel_24983/3576215990.py:7: FutureWarning: The frame.append method is deprecated and will be removed from pandas in a future version. Use pandas.concat instead.\n",
      "  decoded_df_all = decoded_df_all.append({'id' : row['id'], 'decoded_polyline' : decoded_polyline}, ignore_index=True)\n",
      "/var/folders/02/lzvd5scj4zb274qzdzm7r7p80000gn/T/ipykernel_24983/3576215990.py:7: FutureWarning: The frame.append method is deprecated and will be removed from pandas in a future version. Use pandas.concat instead.\n",
      "  decoded_df_all = decoded_df_all.append({'id' : row['id'], 'decoded_polyline' : decoded_polyline}, ignore_index=True)\n"
     ]
    }
   ],
   "source": [
    "decoded_df_all = pd.DataFrame(columns=['id', 'decoded_polyline'])\n",
    "\n",
    "for index, row in all_run_map_data.iterrows():\n",
    "    polyline_str = row['summary_polyline']\n",
    "    decoded_polyline = polyline.decode(polyline_str)\n",
    "\n",
    "    decoded_df_all = decoded_df_all.append({'id' : row['id'], 'decoded_polyline' : decoded_polyline}, ignore_index=True)"
   ]
  },
  {
   "cell_type": "code",
   "execution_count": 286,
   "metadata": {},
   "outputs": [
    {
     "name": "stdout",
     "output_type": "stream",
     "text": [
      "ID column datatype in Run Data:  int64\n",
      "ID column datatype in Decoded Data:  object\n"
     ]
    }
   ],
   "source": [
    "print('ID column datatype in Run Data: ', run_data['id'].dtype)\n",
    "print('ID column datatype in Decoded Data: ', decoded_df_all['id'].dtype)\n",
    "\n",
    "decoded_df_all['id'] = decoded_df_all['id'].astype(int)"
   ]
  },
  {
   "cell_type": "code",
   "execution_count": 287,
   "metadata": {},
   "outputs": [],
   "source": [
    "run_data = pd.merge(run_data, decoded_df_all, on='id')"
   ]
  },
  {
   "cell_type": "markdown",
   "metadata": {},
   "source": [
    "# Going further into the data to only collect runs from RRGCC land"
   ]
  },
  {
   "cell_type": "code",
   "execution_count": 288,
   "metadata": {},
   "outputs": [],
   "source": [
    "pmrp_run_data = run_data[run_data['name'].str.contains('PMRP', case=False, na=False)]\n",
    "rrg_run_data = run_data[run_data['name'].str.contains('RRG', case=False, na=False)]\n",
    "sore_heel_data = run_data[run_data['name'].str.contains('Sore Heel', case=False, na=False)]\n",
    "lode_loop_data = run_data[run_data['name'].str.contains('Lode Loop', case=False, na=False)]\n",
    "drive_by_loop_data = run_data[run_data['name'].str.contains('Drive By Loop', case=False,na=False)]"
   ]
  },
  {
   "cell_type": "code",
   "execution_count": 289,
   "metadata": {},
   "outputs": [],
   "source": [
    "all_csv_path = 'csv/run/all_run_data.csv'\n",
    "pmrp_csv_path = 'csv/run/pmrp_run_data.csv'\n",
    "rrg_csv_path = 'csv/run/rrg_run_data.csv'\n",
    "sore_heel_csv_path = 'csv/run/sore_heel_data.csv'\n",
    "lode_loop_csv_path = 'csv/run/lode_loop_data.csv'\n",
    "drive_by_csv_path = 'csv/run/drive_by_data.csv'\n",
    "\n",
    "run_data.to_csv(all_csv_path, index=False)\n",
    "pmrp_run_data.to_csv(pmrp_csv_path, index=False)\n",
    "rrg_run_data.to_csv(rrg_csv_path, index=False)\n",
    "sore_heel_data.to_csv(sore_heel_csv_path, index=False)\n",
    "lode_loop_data.to_csv(lode_loop_csv_path, index=False)\n",
    "drive_by_loop_data.to_csv(drive_by_csv_path, index=False)"
   ]
  }
 ],
 "metadata": {
  "kernelspec": {
   "display_name": "Python 3",
   "language": "python",
   "name": "python3"
  },
  "language_info": {
   "codemirror_mode": {
    "name": "ipython",
    "version": 3
   },
   "file_extension": ".py",
   "mimetype": "text/x-python",
   "name": "python",
   "nbconvert_exporter": "python",
   "pygments_lexer": "ipython3",
   "version": "3.9.13"
  },
  "orig_nbformat": 4
 },
 "nbformat": 4,
 "nbformat_minor": 2
}
